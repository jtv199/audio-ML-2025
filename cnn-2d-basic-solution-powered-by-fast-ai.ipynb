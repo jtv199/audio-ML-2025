{
 "cells": [
  {
   "cell_type": "markdown",
   "metadata": {},
   "source": [
    "# CNN 2D Basic Solution Powered by fast.ai\n",
    "\n",
    "This kernel explains basic solution that I've used in the last competition and many of top competitors also.\n",
    "It's CNN, even ImageNet pretrained model works fine with audio 2D image like data.\n",
    "\n",
    "Will show:\n",
    "\n",
    "- Converting audio to 2D image like array, so that we can simply exploit strong CNN classifier.\n",
    "- fast.ai to build fast and strong multi-label classifier model. Unlike normal use, we need to train from scratch to comply competition rule. (Though if we use ImageNet pretrained model, it converges super fast...)\n",
    "- With simple codes.\n",
    "\n",
    "## Update 30-Apr, 2019\n",
    "- Now fast.ai library ready to use lwlrap as metric: https://colab.research.google.com/drive/1AgPdhSp7ttY18O3fEoHOQKlt_3HJDLi8\n",
    "- And TTA! https://github.com/fastai/fastai/blob/master/fastai/vision/tta.py --> Oops, it might not be effective for this problem. Now planning to update one more...\n",
    "\n",
    "## Update 28-Apr, 2019\n",
    "\n",
    "- Removed EasyDict dependency.\n",
    "- Training steps improved, tuned by running `lr_find()` and `fit_one_cycle()` iteratively."
   ]
  },
  {
   "cell_type": "code",
   "execution_count": 1,
   "metadata": {
    "_cell_guid": "b1076dfc-b9ad-4769-8c92-a6c4dae69d19",
    "_kg_hide-input": true,
    "_uuid": "8f2839f25d086af736a60e9eeb907d3b93b6e0e5",
    "execution": {
     "iopub.execute_input": "2025-10-06T04:46:08.263744Z",
     "iopub.status.busy": "2025-10-06T04:46:08.263568Z",
     "iopub.status.idle": "2025-10-06T04:46:08.271052Z",
     "shell.execute_reply": "2025-10-06T04:46:08.270258Z",
     "shell.execute_reply.started": "2025-10-06T04:46:08.263710Z"
    },
    "trusted": true
   },
   "outputs": [
    {
     "name": "stdout",
     "output_type": "stream",
     "text": [
      "['.DS_Store', 'test', 'trn_curated', 'train_noisy', 'sample_submission.csv', 'train_curated.csv', 'train_noisy.csv']\n"
     ]
    }
   ],
   "source": [
    "# This Python 3 environment comes with many helpful analytics libraries installed\n",
    "# It is defined by the kaggle/python docker image: https://github.com/kaggle/docker-python\n",
    "# For example, here's several helpful packages to load in \n",
    "\n",
    "import numpy as np # linear algebra\n",
    "import pandas as pd # data processing, CSV file I/O (e.g. pd.read_csv)\n",
    "from pathlib import Path\n",
    "import matplotlib.pyplot as plt\n",
    "from tqdm.notebook import tqdm\n",
    "from PIL import Image\n",
    "import IPython\n",
    "import IPython.display\n",
    "import PIL\n",
    "\n",
    "# Input data files are available in the \"../input/\" directory.\n",
    "# For example, running this (by clicking run or pressing Shift+Enter) will list the files in the input directory\n",
    "\n",
    "import os\n",
    "print(os.listdir(\"./input\"))\n",
    "\n",
    "# Any results you write to the current directory are saved as output."
   ]
  },
  {
   "cell_type": "markdown",
   "metadata": {},
   "source": [
    "## File/folder definitions\n",
    "\n",
    "- `df` will handle training data.\n",
    "- `test_df` will handle test data."
   ]
  },
  {
   "cell_type": "code",
   "execution_count": 2,
   "metadata": {
    "_cell_guid": "79c7e3d0-c299-4dcb-8224-4455121ee9b0",
    "_uuid": "d629ff2d2480ee46fbb7e2d37f6b5fab8052498a",
    "execution": {
     "iopub.status.busy": "2025-10-06T05:41:31.965612Z",
     "iopub.status.idle": "2025-10-06T05:41:31.966056Z",
     "shell.execute_reply": "2025-10-06T05:41:31.965749Z"
    },
    "trusted": true
   },
   "outputs": [
    {
     "name": "stdout",
     "output_type": "stream",
     "text": [
      "🐛 DEBUG MODE: Loading 1000 training samples and 500 test samples\n",
      "Training samples: 1000\n",
      "Test samples: 500\n"
     ]
    }
   ],
   "source": [
    "# Debug mode flag - set to False for full dataset\n",
    "DEBUG_MODE = True\n",
    "DEBUG_TRAIN_SIZE = 1000\n",
    "DEBUG_TEST_SIZE = 500\n",
    "\n",
    "DATA = Path('./input')\n",
    "CSV_TRN_CURATED = DATA/'train_curated.csv'\n",
    "CSV_TRN_NOISY = DATA/'train_noisy.csv'\n",
    "CSV_SUBMISSION = DATA/'sample_submission.csv'\n",
    "TRN_CURATED = DATA/'trn_curated'\n",
    "TRN_NOISY = DATA/'train_noisy'\n",
    "TEST = DATA/'test'\n",
    "\n",
    "WORK = Path('work')\n",
    "IMG_TRN_CURATED = WORK/'image/trn_curated'\n",
    "IMG_TRN_NOISY = WORK/'image/train_noisy'\n",
    "IMG_TEST = WORK/'image/test'\n",
    "for folder in [WORK, IMG_TRN_CURATED, IMG_TRN_NOISY, IMG_TEST]: \n",
    "    Path(folder).mkdir(exist_ok=True, parents=True)\n",
    "\n",
    "# Load data with optional debug mode\n",
    "if DEBUG_MODE:\n",
    "    print(f\"🐛 DEBUG MODE: Loading {DEBUG_TRAIN_SIZE} training samples and {DEBUG_TEST_SIZE} test samples\")\n",
    "    df = pd.read_csv(CSV_TRN_CURATED, nrows=DEBUG_TRAIN_SIZE)\n",
    "    test_df = pd.read_csv(CSV_SUBMISSION, nrows=DEBUG_TEST_SIZE)\n",
    "else:\n",
    "    print(\"📊 FULL MODE: Loading complete dataset\")\n",
    "    df = pd.read_csv(CSV_TRN_CURATED)\n",
    "    test_df = pd.read_csv(CSV_SUBMISSION)\n",
    "\n",
    "print(f\"Training samples: {len(df)}\")\n",
    "print(f\"Test samples: {len(test_df)}\")"
   ]
  },
  {
   "cell_type": "code",
   "execution_count": 3,
   "metadata": {},
   "outputs": [],
   "source": [
    "import os\n",
    "\n",
    "if os.environ.get('KAGGLE_KERNEL_RUN_TYPE', None):\n",
    "    TRN_CURATED_Working = WORK/'trn_curated'\n",
    "    TRN_CURATED = TRN_CURATED_Working\n",
    "    TEST_working = WORK/'test'"
   ]
  },
  {
   "cell_type": "markdown",
   "metadata": {},
   "source": [
    "## Audio conversion to 2D\n",
    "\n",
    "Almost copyed from my repository: https://github.com/daisukelab/ml-sound-classifier\n",
    "- Handle sampling rate 44.1kHz as is, no information loss.\n",
    "- Size of each file will be 128 x L, L is audio seconds x 128; `[128, 256]`  if sound is 2s long.\n",
    "- Convert to Mel-spectrogram, not MFCC. We are handling general sound rather than human voice. https://en.wikipedia.org/wiki/Spectrogram"
   ]
  },
  {
   "cell_type": "code",
   "execution_count": 4,
   "metadata": {
    "execution": {
     "iopub.execute_input": "2025-10-06T05:35:31.512855Z",
     "iopub.status.busy": "2025-10-06T05:35:31.512617Z",
     "iopub.status.idle": "2025-10-06T05:35:32.611115Z",
     "shell.execute_reply": "2025-10-06T05:35:32.610354Z",
     "shell.execute_reply.started": "2025-10-06T05:35:31.512819Z"
    },
    "trusted": true
   },
   "outputs": [],
   "source": [
    "import librosa\n",
    "import librosa.display\n",
    "\n",
    "# note loads audio into spectralgram\n",
    "def read_audio(conf, pathname, trim_long_data):\n",
    "    y, sr = librosa.load(str(pathname), sr=conf.sampling_rate)\n",
    "    # trim silence\n",
    "    if 0 < len(y): # workaround: 0 length causes error\n",
    "        y, _ = librosa.effects.trim(y) # trim, top_db=default(60)\n",
    "    # make it unified length to conf.samples\n",
    "    if len(y) > conf.samples: # long enough\n",
    "        if trim_long_data:\n",
    "            y = y[0:0+conf.samples]\n",
    "    else: # pad blank\n",
    "        padding = conf.samples - len(y)    # add padding at both ends\n",
    "        offset = padding // 2\n",
    "        y = np.pad(y, (offset, conf.samples - len(y) - offset), 'constant')\n",
    "    return y\n",
    "\n",
    "def audio_to_melspectrogram(conf, audio):\n",
    "    spectrogram = librosa.feature.melspectrogram(y=audio, \n",
    "                                                 sr=conf.sampling_rate,\n",
    "                                                 n_mels=conf.n_mels,\n",
    "                                                 hop_length=conf.hop_length,\n",
    "                                                 n_fft=conf.n_fft,\n",
    "                                                 fmin=conf.fmin,\n",
    "                                                 fmax=conf.fmax)\n",
    "    spectrogram = librosa.power_to_db(spectrogram)\n",
    "    spectrogram = spectrogram.astype(np.float32)\n",
    "    return spectrogram\n",
    "\n",
    "def show_melspectrogram(conf, mels, title='Log-frequency power spectrogram'):\n",
    "    librosa.display.specshow(mels, x_axis='time', y_axis='mel', \n",
    "                             sr=conf.sampling_rate, hop_length=conf.hop_length,\n",
    "                            fmin=conf.fmin, fmax=conf.fmax)\n",
    "    plt.colorbar(format='%+2.0f dB')\n",
    "    plt.title(title)\n",
    "    plt.show()\n",
    "\n",
    "# we can make another read_as function\n",
    "def read_as_melspectrogram(conf, pathname, trim_long_data, debug_display=False):\n",
    "    x = read_audio(conf, pathname, trim_long_data)\n",
    "    mels = audio_to_melspectrogram(conf, x)\n",
    "    if debug_display:\n",
    "        IPython.display.display(IPython.display.Audio(x, rate=conf.sampling_rate))\n",
    "        show_melspectrogram(conf, mels)\n",
    "    return mels\n",
    "\n",
    "def visualize_random_samples(conf, df, data_path, n_samples=5):\n",
    "    \"\"\"\n",
    "    Visualize random mel-spectrograms from the dataset\n",
    "    \n",
    "    Args:\n",
    "        conf: Configuration object with audio settings\n",
    "        df: DataFrame with 'fname' and 'labels' columns\n",
    "        data_path: Path to audio files directory\n",
    "        n_samples: Number of random samples to display (default: 5)\n",
    "    \"\"\"\n",
    "    print(f\"Visualizing {n_samples} random mel-spectrograms from {len(df)} audio files...\")\n",
    "    random_indices = np.random.choice(len(df), size=min(n_samples, len(df)), replace=False)\n",
    "    \n",
    "    for idx in random_indices:\n",
    "        row = df.iloc[idx]\n",
    "        fname = row['fname']\n",
    "        labels = row['labels']\n",
    "        \n",
    "        print(f\"\\n{'='*60}\")\n",
    "        print(f\"File: {fname}\")\n",
    "        print(f\"Labels: {labels}\")\n",
    "        print(f\"{'='*60}\")\n",
    "        \n",
    "        x = read_as_melspectrogram(conf, data_path/fname, trim_long_data=False, debug_display=True)\n",
    "        print(f\"Mel-spectrogram shape: {x.shape}\")\n",
    "\n",
    "\n",
    "class conf:\n",
    "    # Preprocessing settings\n",
    "    sampling_rate = 44100\n",
    "    duration = 2\n",
    "    hop_length = 347*duration # to make time steps 128\n",
    "    fmin = 20\n",
    "    fmax = sampling_rate // 2\n",
    "    n_mels = 128\n",
    "    n_fft = n_mels * 20\n",
    "    samples = sampling_rate * duration\n",
    "\n"
   ]
  },
  {
   "cell_type": "code",
   "execution_count": 5,
   "metadata": {},
   "outputs": [],
   "source": [
    "# visualize_random_samples(conf, df, TRN_CURATED, n_samples=5)"
   ]
  },
  {
   "cell_type": "markdown",
   "metadata": {},
   "source": [
    "## Making 2D mel-spectrogram data as 2D 3ch images\n",
    "\n",
    "So that normal CNN image classifier can handle.\n",
    "I wanted to put them into files, but kernel has restriction to keep files less than 500.\n",
    "We need to keep the data on memory.\n",
    "\n",
    "Of course this has positive effect, training gets faster."
   ]
  },
  {
   "cell_type": "code",
   "execution_count": 6,
   "metadata": {
    "execution": {
     "iopub.execute_input": "2025-10-06T05:45:15.936053Z",
     "iopub.status.busy": "2025-10-06T05:45:15.935798Z",
     "iopub.status.idle": "2025-10-06T05:51:06.195760Z",
     "shell.execute_reply": "2025-10-06T05:51:06.194724Z",
     "shell.execute_reply.started": "2025-10-06T05:45:15.936014Z"
    },
    "trusted": true
   },
   "outputs": [],
   "source": [
    "def mono_to_color(X, mean=None, std=None, norm_max=None, norm_min=None, eps=1e-6):\n",
    "    # Stack X as [X,X,X]\n",
    "    X = np.stack([X, X, X], axis=-1)\n",
    "\n",
    "    # Standardize\n",
    "    mean = mean or X.mean()\n",
    "    std = std or X.std()\n",
    "    Xstd = (X - mean) / (std + eps)\n",
    "    _min, _max = Xstd.min(), Xstd.max()\n",
    "    norm_max = norm_max or _max\n",
    "    norm_min = norm_min or _min\n",
    "    if (_max - _min) > eps:\n",
    "        # Scale to [0, 255]\n",
    "        V = Xstd\n",
    "        V[V < norm_min] = norm_min\n",
    "        V[V > norm_max] = norm_max\n",
    "        V = 255 * (V - norm_min) / (norm_max - norm_min)\n",
    "        V = V.astype(np.uint8)\n",
    "    else:\n",
    "        # Just zero\n",
    "        V = np.zeros_like(Xstd, dtype=np.uint8)\n",
    "    return V\n",
    "\n",
    "def convert_wav_to_image(df, source, img_dest):\n",
    "    X = []\n",
    "    for i, row in tqdm(df.iterrows(), total=len(df)):\n",
    "        x = read_as_melspectrogram(conf, source/str(row.fname), trim_long_data=False)\n",
    "        x_color = mono_to_color(x)\n",
    "        X.append(x_color)\n",
    "        filename, _ = os.path.splitext(str(row.fname))\n",
    "        _,filetype = os.path.split(source)\n",
    "        # print(filetype)\n",
    "\n",
    "        save_path = f\"work/{filetype}/{filename}/mel2.png\"\n",
    "        os.makedirs(os.path.split(save_path)[0], exist_ok=True)\n",
    "        Image.fromarray(x_color).save(save_path)\n",
    "    return X\n",
    "\n",
    "# X_train = convert_wav_to_image(df, source=TRN_CURATED, img_dest=IMG_TRN_CURATED)\n",
    "# X_test = convert_wav_to_image(test_df, source=TEST, img_dest=IMG_TEST)"
   ]
  },
  {
   "cell_type": "code",
   "execution_count": 7,
   "metadata": {},
   "outputs": [
    {
     "data": {
      "application/vnd.jupyter.widget-view+json": {
       "model_id": "7bd6c6d91619485f98a9a27218a4714c",
       "version_major": 2,
       "version_minor": 0
      },
      "text/plain": [
       "  0%|          | 0/1000 [00:00<?, ?it/s]"
      ]
     },
     "metadata": {},
     "output_type": "display_data"
    },
    {
     "data": {
      "application/vnd.jupyter.widget-view+json": {
       "model_id": "053266eb64004bef840bd8575680425d",
       "version_major": 2,
       "version_minor": 0
      },
      "text/plain": [
       "  0%|          | 0/500 [00:00<?, ?it/s]"
      ]
     },
     "metadata": {},
     "output_type": "display_data"
    }
   ],
   "source": [
    "def load_img(df, source=TRN_CURATED, img_dest=2):\n",
    "    X = []\n",
    "    for i, row in tqdm(df.iterrows(), total=len(df)):\n",
    "        file,ext = os.path.splitext(row.fname)\n",
    "        # print(file, ext)\n",
    "        # break\n",
    "        if img_dest == 2:\n",
    "            filename = f\"work/{source}/{file}/mel2.png\"\n",
    "        else:\n",
    "            filename = f\"work/{source}/{file}/mel.png\"\n",
    "        x_color = np.array(Image.open(filename))#.astype(float)\n",
    "        # mean = np.mean(x_color)\n",
    "        # std = np.std(x_color)\n",
    "        # x_color -= mean\n",
    "        # x_color /= std + 1e-3\n",
    "        X.append(x_color)\n",
    "    return X\n",
    "from PIL import Image\n",
    "X_train = load_img(df, source=\"trn_curated\", img_dest=1)\n",
    "X_test = load_img(test_df, source=\"test\")\n",
    "# X_train = X_train_2\n",
    "# X_test = X_test_2"
   ]
  },
  {
   "cell_type": "markdown",
   "metadata": {},
   "source": [
    "## Custom `open_image` for fast.ai library to load data from memory\n",
    "\n",
    "- Important note: Random cropping 1 sec, this is working like augmentation."
   ]
  },
  {
   "cell_type": "code",
   "execution_count": 8,
   "metadata": {
    "execution": {
     "iopub.status.busy": "2025-10-06T04:46:10.072599Z",
     "iopub.status.idle": "2025-10-06T04:46:10.073111Z",
     "shell.execute_reply": "2025-10-06T04:46:10.072746Z"
    },
    "trusted": true
   },
   "outputs": [],
   "source": [
    "from fastai.vision.all import *\n",
    "import random\n",
    "\n",
    "CUR_X_FILES, CUR_X = list(df.fname.values), X_train\n",
    "\n",
    "# Custom image loading function for fastai v2\n",
    "def open_fat2019_image(fn):\n",
    "    # open\n",
    "    fname = fn.name if hasattr(fn, 'name') else str(fn).split('/')[-1]\n",
    "    idx = CUR_X_FILES.index(fname)\n",
    "    x = PIL.Image.fromarray(CUR_X[idx])\n",
    "    # crop\n",
    "    time_dim, base_dim = x.size\n",
    "    crop_x = random.randint(0, time_dim - base_dim)\n",
    "    x = x.crop([crop_x, 0, crop_x+base_dim, base_dim])    \n",
    "    # return fastai PILImage\n",
    "    return PILImage.create(x)"
   ]
  },
  {
   "cell_type": "markdown",
   "metadata": {},
   "source": [
    "## Follow multi-label classification \n",
    "\n",
    "- Almost following fast.ai course: https://nbviewer.jupyter.org/github/fastai/course-v3/blob/master/nbs/dl1/lesson3-planet.ipynb\n",
    "- But `pretrained=False`\n",
    "- With lwlrap as metric: https://colab.research.google.com/drive/1AgPdhSp7ttY18O3fEoHOQKlt_3HJDLi8"
   ]
  },
  {
   "cell_type": "code",
   "execution_count": 9,
   "metadata": {
    "execution": {
     "iopub.status.busy": "2025-10-06T04:46:10.073825Z",
     "iopub.status.idle": "2025-10-06T04:46:10.074488Z",
     "shell.execute_reply": "2025-10-06T04:46:10.074047Z"
    },
    "trusted": true
   },
   "outputs": [],
   "source": [
    "# from official code https://colab.research.google.com/drive/1AgPdhSp7ttY18O3fEoHOQKlt_3HJDLi8#scrollTo=cRCaCIb9oguU\n",
    "def _one_sample_positive_class_precisions(scores, truth):\n",
    "    \"\"\"Calculate precisions for each true class for a single sample.\n",
    "\n",
    "    Args:\n",
    "      scores: np.array of (num_classes,) giving the individual classifier scores.\n",
    "      truth: np.array of (num_classes,) bools indicating which classes are true.\n",
    "\n",
    "    Returns:\n",
    "      pos_class_indices: np.array of indices of the true classes for this sample.\n",
    "      pos_class_precisions: np.array of precisions corresponding to each of those\n",
    "        classes.\n",
    "    \"\"\"\n",
    "    num_classes = scores.shape[0]\n",
    "    pos_class_indices = np.flatnonzero(truth > 0)\n",
    "    # Only calculate precisions if there are some true classes.\n",
    "    if not len(pos_class_indices):\n",
    "        return pos_class_indices, np.zeros(0)\n",
    "    # Retrieval list of classes for this sample.\n",
    "    retrieved_classes = np.argsort(scores)[::-1]\n",
    "    # class_rankings[top_scoring_class_index] == 0 etc.\n",
    "    class_rankings = np.zeros(num_classes, dtype=np.int32)\n",
    "    class_rankings[retrieved_classes] = range(num_classes)\n",
    "    # Which of these is a true label?\n",
    "    retrieved_class_true = np.zeros(num_classes, dtype=bool)\n",
    "    retrieved_class_true[class_rankings[pos_class_indices]] = True\n",
    "    # Num hits for every truncated retrieval list.\n",
    "    retrieved_cumulative_hits = np.cumsum(retrieved_class_true)\n",
    "    # Precision of retrieval list truncated at each hit, in order of pos_labels.\n",
    "    precision_at_hits = (\n",
    "            retrieved_cumulative_hits[class_rankings[pos_class_indices]] /\n",
    "            (1 + class_rankings[pos_class_indices].astype(np.float32)))\n",
    "    return pos_class_indices, precision_at_hits\n",
    "\n",
    "\n",
    "def calculate_per_class_lwlrap(truth, scores):\n",
    "    \"\"\"Calculate label-weighted label-ranking average precision.\n",
    "\n",
    "    Arguments:\n",
    "      truth: np.array of (num_samples, num_classes) giving boolean ground-truth\n",
    "        of presence of that class in that sample.\n",
    "      scores: np.array of (num_samples, num_classes) giving the classifier-under-\n",
    "        test's real-valued score for each class for each sample.\n",
    "\n",
    "    Returns:\n",
    "      per_class_lwlrap: np.array of (num_classes,) giving the lwlrap for each\n",
    "        class.\n",
    "      weight_per_class: np.array of (num_classes,) giving the prior of each\n",
    "        class within the truth labels.  Then the overall unbalanced lwlrap is\n",
    "        simply np.sum(per_class_lwlrap * weight_per_class)\n",
    "    \"\"\"\n",
    "    assert truth.shape == scores.shape\n",
    "    num_samples, num_classes = scores.shape\n",
    "    # Space to store a distinct precision value for each class on each sample.\n",
    "    # Only the classes that are true for each sample will be filled in.\n",
    "    precisions_for_samples_by_classes = np.zeros((num_samples, num_classes))\n",
    "    for sample_num in range(num_samples):\n",
    "        pos_class_indices, precision_at_hits = (\n",
    "            _one_sample_positive_class_precisions(scores[sample_num, :],\n",
    "                                                  truth[sample_num, :]))\n",
    "        precisions_for_samples_by_classes[sample_num, pos_class_indices] = (\n",
    "            precision_at_hits)\n",
    "    labels_per_class = np.sum(truth > 0, axis=0)\n",
    "    weight_per_class = labels_per_class / float(np.sum(labels_per_class))\n",
    "    # Form average of each column, i.e. all the precisions assigned to labels in\n",
    "    # a particular class.\n",
    "    per_class_lwlrap = (np.sum(precisions_for_samples_by_classes, axis=0) /\n",
    "                        np.maximum(1, labels_per_class))\n",
    "    # overall_lwlrap = simple average of all the actual per-class, per-sample precisions\n",
    "    #                = np.sum(precisions_for_samples_by_classes) / np.sum(precisions_for_samples_by_classes > 0)\n",
    "    #           also = weighted mean of per-class lwlraps, weighted by class label prior across samples\n",
    "    #                = np.sum(per_class_lwlrap * weight_per_class)\n",
    "    return per_class_lwlrap, weight_per_class\n",
    "\n",
    "\n",
    "# Wrapper for fast.ai library\n",
    "def lwlrap(preds, targs):\n",
    "    # Convert from tensor to numpy\n",
    "    scores = preds.cpu().numpy() if hasattr(preds, 'cpu') else preds\n",
    "    truth = targs.cpu().numpy() if hasattr(targs, 'cpu') else targs\n",
    "    score, weight = calculate_per_class_lwlrap(truth, scores)\n",
    "    return (score * weight).sum()"
   ]
  },
  {
   "cell_type": "code",
   "execution_count": 10,
   "metadata": {
    "execution": {
     "iopub.status.busy": "2025-10-06T04:46:10.075322Z",
     "iopub.status.idle": "2025-10-06T04:46:10.075868Z",
     "shell.execute_reply": "2025-10-06T04:46:10.075610Z"
    },
    "trusted": true
   },
   "outputs": [],
   "source": [
    "# FastAI v2 Data Loading with custom image opener\n",
    "class ImageOpener(Transform):\n",
    "    def encodes(self, fn):\n",
    "        return open_fat2019_image(fn)\n",
    "\n",
    "# Create DataBlock for multi-label classification\n",
    "dblock = DataBlock(\n",
    "    blocks=(ImageBlock, MultiCategoryBlock),\n",
    "    get_x=ColReader('fname', pref=WORK/'image/trn_curated'),\n",
    "    get_y=ColReader('labels', label_delim=','),\n",
    "    splitter=RandomSplitter(valid_pct=0.2, seed=42),\n",
    "    item_tfms=Resize(128),\n",
    "    batch_tfms=[*aug_transforms(do_flip=True, max_rotate=0, max_lighting=0.1, max_zoom=1.0, max_warp=0.), Normalize.from_stats(*imagenet_stats)]\n",
    ")\n",
    "\n",
    "# Override the image opener\n",
    "dblock.type_tfms[0] = ImageOpener()\n",
    "\n",
    "# Create DataLoaders\n",
    "dls = dblock.dataloaders(df, bs=64)"
   ]
  },
  {
   "cell_type": "code",
   "execution_count": 11,
   "metadata": {
    "execution": {
     "iopub.status.busy": "2025-10-06T04:46:10.076634Z",
     "iopub.status.idle": "2025-10-06T04:46:10.077081Z",
     "shell.execute_reply": "2025-10-06T04:46:10.076830Z"
    },
    "trusted": true
   },
   "outputs": [
    {
     "data": {
      "image/png": "[encoded data removed]",
      "text/plain": [
       "<Figure size 900x300 with 3 Axes>"
      ]
     },
     "metadata": {},
     "output_type": "display_data"
    }
   ],
   "source": [
    "dls.show_batch(max_n=3)"
   ]
  },
  {
   "cell_type": "code",
   "execution_count": 12,
   "metadata": {
    "execution": {
     "iopub.status.busy": "2025-10-06T04:46:10.077921Z",
     "iopub.status.idle": "2025-10-06T04:46:10.078386Z",
     "shell.execute_reply": "2025-10-06T04:46:10.078132Z"
    },
    "trusted": true
   },
   "outputs": [
    {
     "data": {
      "text/html": [
       "\n",
       "<style>\n",
       "    /* Turns off some styling */\n",
       "    progress {\n",
       "        /* gets rid of default border in Firefox and Opera. */\n",
       "        border: none;\n",
       "        /* Needs to be in here for Safari polyfill so background images work as expected. */\n",
       "        background-size: auto;\n",
       "    }\n",
       "    progress:not([value]), progress:not([value])::-webkit-progress-bar {\n",
       "        background: repeating-linear-gradient(45deg, #7e7e7e, #7e7e7e 10px, #5c5c5c 10px, #5c5c5c 20px);\n",
       "    }\n",
       "    .progress-bar-interrupted, .progress-bar-interrupted::-webkit-progress-bar {\n",
       "        background: #F44336;\n",
       "    }\n",
       "</style>\n"
      ],
      "text/plain": [
       "<IPython.core.display.HTML object>"
      ]
     },
     "metadata": {},
     "output_type": "display_data"
    },
    {
     "data": {
      "text/html": [],
      "text/plain": [
       "<IPython.core.display.HTML object>"
      ]
     },
     "metadata": {},
     "output_type": "display_data"
    },
    {
     "data": {
      "text/plain": [
       "SuggestedLRs(valley=0.002511886414140463)"
      ]
     },
     "execution_count": 12,
     "metadata": {},
     "output_type": "execute_result"
    },
    {
     "data": {
      "image/png": "[encoded data removed]",
      "text/plain": [
       "<Figure size 640x480 with 1 Axes>"
      ]
     },
     "metadata": {},
     "output_type": "display_data"
    }
   ],
   "source": [
    "learn = vision_learner(dls, resnet18, pretrained=False, metrics=lwlrap)\n",
    "learn.unfreeze()\n",
    "\n",
    "learn.lr_find()"
   ]
  },
  {
   "cell_type": "code",
   "execution_count": 13,
   "metadata": {
    "execution": {
     "iopub.status.busy": "2025-10-06T04:46:10.079166Z",
     "iopub.status.idle": "2025-10-06T04:46:10.079835Z",
     "shell.execute_reply": "2025-10-06T04:46:10.079571Z"
    },
    "trusted": true
   },
   "outputs": [
    {
     "data": {
      "text/html": [
       "\n",
       "<style>\n",
       "    /* Turns off some styling */\n",
       "    progress {\n",
       "        /* gets rid of default border in Firefox and Opera. */\n",
       "        border: none;\n",
       "        /* Needs to be in here for Safari polyfill so background images work as expected. */\n",
       "        background-size: auto;\n",
       "    }\n",
       "    progress:not([value]), progress:not([value])::-webkit-progress-bar {\n",
       "        background: repeating-linear-gradient(45deg, #7e7e7e, #7e7e7e 10px, #5c5c5c 10px, #5c5c5c 20px);\n",
       "    }\n",
       "    .progress-bar-interrupted, .progress-bar-interrupted::-webkit-progress-bar {\n",
       "        background: #F44336;\n",
       "    }\n",
       "</style>\n"
      ],
      "text/plain": [
       "<IPython.core.display.HTML object>"
      ]
     },
     "metadata": {},
     "output_type": "display_data"
    },
    {
     "data": {
      "text/html": [
       "<table border=\"1\" class=\"dataframe\">\n",
       "  <thead>\n",
       "    <tr style=\"text-align: left;\">\n",
       "      <th>epoch</th>\n",
       "      <th>train_loss</th>\n",
       "      <th>valid_loss</th>\n",
       "      <th>lwlrap</th>\n",
       "      <th>time</th>\n",
       "    </tr>\n",
       "  </thead>\n",
       "  <tbody>\n",
       "    <tr>\n",
       "      <td>0</td>\n",
       "      <td>0.611317</td>\n",
       "      <td>115578.328125</td>\n",
       "      <td>0.101347</td>\n",
       "      <td>00:01</td>\n",
       "    </tr>\n",
       "    <tr>\n",
       "      <td>1</td>\n",
       "      <td>0.385020</td>\n",
       "      <td>277.665405</td>\n",
       "      <td>0.075758</td>\n",
       "      <td>00:01</td>\n",
       "    </tr>\n",
       "    <tr>\n",
       "      <td>2</td>\n",
       "      <td>0.291185</td>\n",
       "      <td>0.119222</td>\n",
       "      <td>0.054805</td>\n",
       "      <td>00:01</td>\n",
       "    </tr>\n",
       "    <tr>\n",
       "      <td>3</td>\n",
       "      <td>0.228414</td>\n",
       "      <td>0.083571</td>\n",
       "      <td>0.088912</td>\n",
       "      <td>00:01</td>\n",
       "    </tr>\n",
       "    <tr>\n",
       "      <td>4</td>\n",
       "      <td>0.187747</td>\n",
       "      <td>0.082388</td>\n",
       "      <td>0.089675</td>\n",
       "      <td>00:01</td>\n",
       "    </tr>\n",
       "  </tbody>\n",
       "</table>"
      ],
      "text/plain": [
       "<IPython.core.display.HTML object>"
      ]
     },
     "metadata": {},
     "output_type": "display_data"
    },
    {
     "data": {
      "text/html": [
       "\n",
       "<style>\n",
       "    /* Turns off some styling */\n",
       "    progress {\n",
       "        /* gets rid of default border in Firefox and Opera. */\n",
       "        border: none;\n",
       "        /* Needs to be in here for Safari polyfill so background images work as expected. */\n",
       "        background-size: auto;\n",
       "    }\n",
       "    progress:not([value]), progress:not([value])::-webkit-progress-bar {\n",
       "        background: repeating-linear-gradient(45deg, #7e7e7e, #7e7e7e 10px, #5c5c5c 10px, #5c5c5c 20px);\n",
       "    }\n",
       "    .progress-bar-interrupted, .progress-bar-interrupted::-webkit-progress-bar {\n",
       "        background: #F44336;\n",
       "    }\n",
       "</style>\n"
      ],
      "text/plain": [
       "<IPython.core.display.HTML object>"
      ]
     },
     "metadata": {},
     "output_type": "display_data"
    },
    {
     "data": {
      "text/html": [
       "<table border=\"1\" class=\"dataframe\">\n",
       "  <thead>\n",
       "    <tr style=\"text-align: left;\">\n",
       "      <th>epoch</th>\n",
       "      <th>train_loss</th>\n",
       "      <th>valid_loss</th>\n",
       "      <th>lwlrap</th>\n",
       "      <th>time</th>\n",
       "    </tr>\n",
       "  </thead>\n",
       "  <tbody>\n",
       "    <tr>\n",
       "      <td>0</td>\n",
       "      <td>0.096064</td>\n",
       "      <td>0.084288</td>\n",
       "      <td>0.103212</td>\n",
       "      <td>00:01</td>\n",
       "    </tr>\n",
       "    <tr>\n",
       "      <td>1</td>\n",
       "      <td>0.092529</td>\n",
       "      <td>0.081785</td>\n",
       "      <td>0.123512</td>\n",
       "      <td>00:01</td>\n",
       "    </tr>\n",
       "    <tr>\n",
       "      <td>2</td>\n",
       "      <td>0.091615</td>\n",
       "      <td>0.076726</td>\n",
       "      <td>0.101020</td>\n",
       "      <td>00:01</td>\n",
       "    </tr>\n",
       "    <tr>\n",
       "      <td>3</td>\n",
       "      <td>0.090019</td>\n",
       "      <td>0.075419</td>\n",
       "      <td>0.118468</td>\n",
       "      <td>00:01</td>\n",
       "    </tr>\n",
       "    <tr>\n",
       "      <td>4</td>\n",
       "      <td>0.088784</td>\n",
       "      <td>0.076792</td>\n",
       "      <td>0.120285</td>\n",
       "      <td>00:01</td>\n",
       "    </tr>\n",
       "    <tr>\n",
       "      <td>5</td>\n",
       "      <td>0.091471</td>\n",
       "      <td>0.337637</td>\n",
       "      <td>0.097062</td>\n",
       "      <td>00:01</td>\n",
       "    </tr>\n",
       "    <tr>\n",
       "      <td>6</td>\n",
       "      <td>0.093271</td>\n",
       "      <td>0.148647</td>\n",
       "      <td>0.091286</td>\n",
       "      <td>00:01</td>\n",
       "    </tr>\n",
       "    <tr>\n",
       "      <td>7</td>\n",
       "      <td>0.093113</td>\n",
       "      <td>0.111746</td>\n",
       "      <td>0.090770</td>\n",
       "      <td>00:01</td>\n",
       "    </tr>\n",
       "    <tr>\n",
       "      <td>8</td>\n",
       "      <td>0.092195</td>\n",
       "      <td>0.100707</td>\n",
       "      <td>0.091746</td>\n",
       "      <td>00:01</td>\n",
       "    </tr>\n",
       "    <tr>\n",
       "      <td>9</td>\n",
       "      <td>0.092049</td>\n",
       "      <td>0.099447</td>\n",
       "      <td>0.102345</td>\n",
       "      <td>00:01</td>\n",
       "    </tr>\n",
       "  </tbody>\n",
       "</table>"
      ],
      "text/plain": [
       "<IPython.core.display.HTML object>"
      ]
     },
     "metadata": {},
     "output_type": "display_data"
    }
   ],
   "source": [
    "learn.fit_one_cycle(5, 1e-1)\n",
    "learn.fit_one_cycle(10, 1e-2)"
   ]
  },
  {
   "cell_type": "code",
   "execution_count": 14,
   "metadata": {
    "execution": {
     "iopub.status.busy": "2025-10-06T04:46:10.080501Z",
     "iopub.status.idle": "2025-10-06T04:46:10.081181Z",
     "shell.execute_reply": "2025-10-06T04:46:10.080885Z"
    },
    "trusted": true
   },
   "outputs": [
    {
     "data": {
      "text/html": [
       "\n",
       "<style>\n",
       "    /* Turns off some styling */\n",
       "    progress {\n",
       "        /* gets rid of default border in Firefox and Opera. */\n",
       "        border: none;\n",
       "        /* Needs to be in here for Safari polyfill so background images work as expected. */\n",
       "        background-size: auto;\n",
       "    }\n",
       "    progress:not([value]), progress:not([value])::-webkit-progress-bar {\n",
       "        background: repeating-linear-gradient(45deg, #7e7e7e, #7e7e7e 10px, #5c5c5c 10px, #5c5c5c 20px);\n",
       "    }\n",
       "    .progress-bar-interrupted, .progress-bar-interrupted::-webkit-progress-bar {\n",
       "        background: #F44336;\n",
       "    }\n",
       "</style>\n"
      ],
      "text/plain": [
       "<IPython.core.display.HTML object>"
      ]
     },
     "metadata": {},
     "output_type": "display_data"
    },
    {
     "data": {
      "text/html": [],
      "text/plain": [
       "<IPython.core.display.HTML object>"
      ]
     },
     "metadata": {},
     "output_type": "display_data"
    },
    {
     "data": {
      "text/plain": [
       "SuggestedLRs(valley=0.013182567432522774)"
      ]
     },
     "execution_count": 14,
     "metadata": {},
     "output_type": "execute_result"
    },
    {
     "data": {
      "image/png": "[encoded data removed]",
      "text/plain": [
       "<Figure size 640x480 with 1 Axes>"
      ]
     },
     "metadata": {},
     "output_type": "display_data"
    }
   ],
   "source": [
    "learn.lr_find()"
   ]
  },
  {
   "cell_type": "code",
   "execution_count": 15,
   "metadata": {
    "execution": {
     "iopub.status.busy": "2025-10-06T04:46:10.082054Z",
     "iopub.status.idle": "2025-10-06T04:46:10.082543Z",
     "shell.execute_reply": "2025-10-06T04:46:10.082301Z"
    },
    "trusted": true
   },
   "outputs": [
    {
     "data": {
      "text/html": [
       "\n",
       "<style>\n",
       "    /* Turns off some styling */\n",
       "    progress {\n",
       "        /* gets rid of default border in Firefox and Opera. */\n",
       "        border: none;\n",
       "        /* Needs to be in here for Safari polyfill so background images work as expected. */\n",
       "        background-size: auto;\n",
       "    }\n",
       "    progress:not([value]), progress:not([value])::-webkit-progress-bar {\n",
       "        background: repeating-linear-gradient(45deg, #7e7e7e, #7e7e7e 10px, #5c5c5c 10px, #5c5c5c 20px);\n",
       "    }\n",
       "    .progress-bar-interrupted, .progress-bar-interrupted::-webkit-progress-bar {\n",
       "        background: #F44336;\n",
       "    }\n",
       "</style>\n"
      ],
      "text/plain": [
       "<IPython.core.display.HTML object>"
      ]
     },
     "metadata": {},
     "output_type": "display_data"
    },
    {
     "data": {
      "text/html": [
       "<table border=\"1\" class=\"dataframe\">\n",
       "  <thead>\n",
       "    <tr style=\"text-align: left;\">\n",
       "      <th>epoch</th>\n",
       "      <th>train_loss</th>\n",
       "      <th>valid_loss</th>\n",
       "      <th>lwlrap</th>\n",
       "      <th>time</th>\n",
       "    </tr>\n",
       "  </thead>\n",
       "  <tbody>\n",
       "    <tr>\n",
       "      <td>0</td>\n",
       "      <td>0.092487</td>\n",
       "      <td>0.105516</td>\n",
       "      <td>0.094661</td>\n",
       "      <td>00:01</td>\n",
       "    </tr>\n",
       "    <tr>\n",
       "      <td>1</td>\n",
       "      <td>0.092029</td>\n",
       "      <td>0.090757</td>\n",
       "      <td>0.103341</td>\n",
       "      <td>00:01</td>\n",
       "    </tr>\n",
       "    <tr>\n",
       "      <td>2</td>\n",
       "      <td>0.089671</td>\n",
       "      <td>0.086124</td>\n",
       "      <td>0.113966</td>\n",
       "      <td>00:01</td>\n",
       "    </tr>\n",
       "    <tr>\n",
       "      <td>3</td>\n",
       "      <td>0.088172</td>\n",
       "      <td>0.082035</td>\n",
       "      <td>0.113974</td>\n",
       "      <td>00:01</td>\n",
       "    </tr>\n",
       "    <tr>\n",
       "      <td>4</td>\n",
       "      <td>0.085951</td>\n",
       "      <td>0.076526</td>\n",
       "      <td>0.119667</td>\n",
       "      <td>00:01</td>\n",
       "    </tr>\n",
       "    <tr>\n",
       "      <td>5</td>\n",
       "      <td>0.085988</td>\n",
       "      <td>0.087514</td>\n",
       "      <td>0.124357</td>\n",
       "      <td>00:01</td>\n",
       "    </tr>\n",
       "    <tr>\n",
       "      <td>6</td>\n",
       "      <td>0.085850</td>\n",
       "      <td>0.090780</td>\n",
       "      <td>0.143463</td>\n",
       "      <td>00:01</td>\n",
       "    </tr>\n",
       "    <tr>\n",
       "      <td>7</td>\n",
       "      <td>0.085506</td>\n",
       "      <td>0.082280</td>\n",
       "      <td>0.152584</td>\n",
       "      <td>00:01</td>\n",
       "    </tr>\n",
       "    <tr>\n",
       "      <td>8</td>\n",
       "      <td>0.084255</td>\n",
       "      <td>0.073042</td>\n",
       "      <td>0.143784</td>\n",
       "      <td>00:01</td>\n",
       "    </tr>\n",
       "    <tr>\n",
       "      <td>9</td>\n",
       "      <td>0.083196</td>\n",
       "      <td>0.083440</td>\n",
       "      <td>0.152339</td>\n",
       "      <td>00:01</td>\n",
       "    </tr>\n",
       "    <tr>\n",
       "      <td>10</td>\n",
       "      <td>0.082571</td>\n",
       "      <td>0.083761</td>\n",
       "      <td>0.174717</td>\n",
       "      <td>00:01</td>\n",
       "    </tr>\n",
       "    <tr>\n",
       "      <td>11</td>\n",
       "      <td>0.081186</td>\n",
       "      <td>0.086470</td>\n",
       "      <td>0.163391</td>\n",
       "      <td>00:01</td>\n",
       "    </tr>\n",
       "    <tr>\n",
       "      <td>12</td>\n",
       "      <td>0.080096</td>\n",
       "      <td>0.095679</td>\n",
       "      <td>0.160696</td>\n",
       "      <td>00:01</td>\n",
       "    </tr>\n",
       "    <tr>\n",
       "      <td>13</td>\n",
       "      <td>0.079684</td>\n",
       "      <td>0.094040</td>\n",
       "      <td>0.159386</td>\n",
       "      <td>00:01</td>\n",
       "    </tr>\n",
       "    <tr>\n",
       "      <td>14</td>\n",
       "      <td>0.079250</td>\n",
       "      <td>0.084931</td>\n",
       "      <td>0.170652</td>\n",
       "      <td>00:01</td>\n",
       "    </tr>\n",
       "    <tr>\n",
       "      <td>15</td>\n",
       "      <td>0.078743</td>\n",
       "      <td>0.092383</td>\n",
       "      <td>0.163526</td>\n",
       "      <td>00:01</td>\n",
       "    </tr>\n",
       "    <tr>\n",
       "      <td>16</td>\n",
       "      <td>0.077959</td>\n",
       "      <td>0.081176</td>\n",
       "      <td>0.186374</td>\n",
       "      <td>00:01</td>\n",
       "    </tr>\n",
       "    <tr>\n",
       "      <td>17</td>\n",
       "      <td>0.077207</td>\n",
       "      <td>0.098286</td>\n",
       "      <td>0.183688</td>\n",
       "      <td>00:01</td>\n",
       "    </tr>\n",
       "    <tr>\n",
       "      <td>18</td>\n",
       "      <td>0.077434</td>\n",
       "      <td>0.113431</td>\n",
       "      <td>0.177289</td>\n",
       "      <td>00:01</td>\n",
       "    </tr>\n",
       "    <tr>\n",
       "      <td>19</td>\n",
       "      <td>0.077178</td>\n",
       "      <td>0.093757</td>\n",
       "      <td>0.180529</td>\n",
       "      <td>00:01</td>\n",
       "    </tr>\n",
       "  </tbody>\n",
       "</table>"
      ],
      "text/plain": [
       "<IPython.core.display.HTML object>"
      ]
     },
     "metadata": {},
     "output_type": "display_data"
    }
   ],
   "source": [
    "learn.fit_one_cycle(20, 3e-3)"
   ]
  },
  {
   "cell_type": "code",
   "execution_count": 16,
   "metadata": {
    "execution": {
     "iopub.status.busy": "2025-10-06T04:46:10.083302Z",
     "iopub.status.idle": "2025-10-06T04:46:10.083770Z",
     "shell.execute_reply": "2025-10-06T04:46:10.083520Z"
    },
    "trusted": true
   },
   "outputs": [
    {
     "data": {
      "text/html": [
       "\n",
       "<style>\n",
       "    /* Turns off some styling */\n",
       "    progress {\n",
       "        /* gets rid of default border in Firefox and Opera. */\n",
       "        border: none;\n",
       "        /* Needs to be in here for Safari polyfill so background images work as expected. */\n",
       "        background-size: auto;\n",
       "    }\n",
       "    progress:not([value]), progress:not([value])::-webkit-progress-bar {\n",
       "        background: repeating-linear-gradient(45deg, #7e7e7e, #7e7e7e 10px, #5c5c5c 10px, #5c5c5c 20px);\n",
       "    }\n",
       "    .progress-bar-interrupted, .progress-bar-interrupted::-webkit-progress-bar {\n",
       "        background: #F44336;\n",
       "    }\n",
       "</style>\n"
      ],
      "text/plain": [
       "<IPython.core.display.HTML object>"
      ]
     },
     "metadata": {},
     "output_type": "display_data"
    },
    {
     "data": {
      "text/html": [],
      "text/plain": [
       "<IPython.core.display.HTML object>"
      ]
     },
     "metadata": {},
     "output_type": "display_data"
    },
    {
     "data": {
      "text/plain": [
       "SuggestedLRs(valley=0.0014454397605732083)"
      ]
     },
     "execution_count": 16,
     "metadata": {},
     "output_type": "execute_result"
    },
    {
     "data": {
      "image/png": "[encoded data removed]",
      "text/plain": [
       "<Figure size 640x480 with 1 Axes>"
      ]
     },
     "metadata": {},
     "output_type": "display_data"
    }
   ],
   "source": [
    "learn.lr_find()"
   ]
  },
  {
   "cell_type": "code",
   "execution_count": 17,
   "metadata": {
    "execution": {
     "iopub.status.busy": "2025-10-06T04:46:10.084410Z",
     "iopub.status.idle": "2025-10-06T04:46:10.085037Z",
     "shell.execute_reply": "2025-10-06T04:46:10.084737Z"
    },
    "trusted": true
   },
   "outputs": [
    {
     "data": {
      "text/html": [
       "\n",
       "<style>\n",
       "    /* Turns off some styling */\n",
       "    progress {\n",
       "        /* gets rid of default border in Firefox and Opera. */\n",
       "        border: none;\n",
       "        /* Needs to be in here for Safari polyfill so background images work as expected. */\n",
       "        background-size: auto;\n",
       "    }\n",
       "    progress:not([value]), progress:not([value])::-webkit-progress-bar {\n",
       "        background: repeating-linear-gradient(45deg, #7e7e7e, #7e7e7e 10px, #5c5c5c 10px, #5c5c5c 20px);\n",
       "    }\n",
       "    .progress-bar-interrupted, .progress-bar-interrupted::-webkit-progress-bar {\n",
       "        background: #F44336;\n",
       "    }\n",
       "</style>\n"
      ],
      "text/plain": [
       "<IPython.core.display.HTML object>"
      ]
     },
     "metadata": {},
     "output_type": "display_data"
    },
    {
     "data": {
      "text/html": [
       "<table border=\"1\" class=\"dataframe\">\n",
       "  <thead>\n",
       "    <tr style=\"text-align: left;\">\n",
       "      <th>epoch</th>\n",
       "      <th>train_loss</th>\n",
       "      <th>valid_loss</th>\n",
       "      <th>lwlrap</th>\n",
       "      <th>time</th>\n",
       "    </tr>\n",
       "  </thead>\n",
       "  <tbody>\n",
       "    <tr>\n",
       "      <td>0</td>\n",
       "      <td>0.073992</td>\n",
       "      <td>0.086199</td>\n",
       "      <td>0.173705</td>\n",
       "      <td>00:01</td>\n",
       "    </tr>\n",
       "    <tr>\n",
       "      <td>1</td>\n",
       "      <td>0.075992</td>\n",
       "      <td>0.092838</td>\n",
       "      <td>0.191111</td>\n",
       "      <td>00:01</td>\n",
       "    </tr>\n",
       "    <tr>\n",
       "      <td>2</td>\n",
       "      <td>0.075815</td>\n",
       "      <td>0.075487</td>\n",
       "      <td>0.201813</td>\n",
       "      <td>00:01</td>\n",
       "    </tr>\n",
       "    <tr>\n",
       "      <td>3</td>\n",
       "      <td>0.075279</td>\n",
       "      <td>0.083562</td>\n",
       "      <td>0.193832</td>\n",
       "      <td>00:01</td>\n",
       "    </tr>\n",
       "    <tr>\n",
       "      <td>4</td>\n",
       "      <td>0.076077</td>\n",
       "      <td>0.090207</td>\n",
       "      <td>0.192455</td>\n",
       "      <td>00:01</td>\n",
       "    </tr>\n",
       "    <tr>\n",
       "      <td>5</td>\n",
       "      <td>0.075338</td>\n",
       "      <td>0.088181</td>\n",
       "      <td>0.182866</td>\n",
       "      <td>00:01</td>\n",
       "    </tr>\n",
       "    <tr>\n",
       "      <td>6</td>\n",
       "      <td>0.075320</td>\n",
       "      <td>0.084113</td>\n",
       "      <td>0.191478</td>\n",
       "      <td>00:01</td>\n",
       "    </tr>\n",
       "    <tr>\n",
       "      <td>7</td>\n",
       "      <td>0.075222</td>\n",
       "      <td>0.095466</td>\n",
       "      <td>0.179228</td>\n",
       "      <td>00:01</td>\n",
       "    </tr>\n",
       "    <tr>\n",
       "      <td>8</td>\n",
       "      <td>0.074922</td>\n",
       "      <td>0.086131</td>\n",
       "      <td>0.200744</td>\n",
       "      <td>00:01</td>\n",
       "    </tr>\n",
       "    <tr>\n",
       "      <td>9</td>\n",
       "      <td>0.075303</td>\n",
       "      <td>0.090377</td>\n",
       "      <td>0.205391</td>\n",
       "      <td>00:01</td>\n",
       "    </tr>\n",
       "    <tr>\n",
       "      <td>10</td>\n",
       "      <td>0.075122</td>\n",
       "      <td>0.091604</td>\n",
       "      <td>0.206944</td>\n",
       "      <td>00:01</td>\n",
       "    </tr>\n",
       "    <tr>\n",
       "      <td>11</td>\n",
       "      <td>0.074682</td>\n",
       "      <td>0.087635</td>\n",
       "      <td>0.212778</td>\n",
       "      <td>00:01</td>\n",
       "    </tr>\n",
       "    <tr>\n",
       "      <td>12</td>\n",
       "      <td>0.074460</td>\n",
       "      <td>0.112694</td>\n",
       "      <td>0.198742</td>\n",
       "      <td>00:01</td>\n",
       "    </tr>\n",
       "    <tr>\n",
       "      <td>13</td>\n",
       "      <td>0.074161</td>\n",
       "      <td>0.095019</td>\n",
       "      <td>0.195513</td>\n",
       "      <td>00:01</td>\n",
       "    </tr>\n",
       "    <tr>\n",
       "      <td>14</td>\n",
       "      <td>0.074354</td>\n",
       "      <td>0.103912</td>\n",
       "      <td>0.192837</td>\n",
       "      <td>00:01</td>\n",
       "    </tr>\n",
       "    <tr>\n",
       "      <td>15</td>\n",
       "      <td>0.073960</td>\n",
       "      <td>0.093534</td>\n",
       "      <td>0.195222</td>\n",
       "      <td>00:01</td>\n",
       "    </tr>\n",
       "    <tr>\n",
       "      <td>16</td>\n",
       "      <td>0.074234</td>\n",
       "      <td>0.093750</td>\n",
       "      <td>0.225288</td>\n",
       "      <td>00:01</td>\n",
       "    </tr>\n",
       "    <tr>\n",
       "      <td>17</td>\n",
       "      <td>0.074160</td>\n",
       "      <td>0.095255</td>\n",
       "      <td>0.219363</td>\n",
       "      <td>00:01</td>\n",
       "    </tr>\n",
       "    <tr>\n",
       "      <td>18</td>\n",
       "      <td>0.074140</td>\n",
       "      <td>0.110552</td>\n",
       "      <td>0.217227</td>\n",
       "      <td>00:01</td>\n",
       "    </tr>\n",
       "    <tr>\n",
       "      <td>19</td>\n",
       "      <td>0.074031</td>\n",
       "      <td>0.085301</td>\n",
       "      <td>0.215757</td>\n",
       "      <td>00:01</td>\n",
       "    </tr>\n",
       "  </tbody>\n",
       "</table>"
      ],
      "text/plain": [
       "<IPython.core.display.HTML object>"
      ]
     },
     "metadata": {},
     "output_type": "display_data"
    }
   ],
   "source": [
    "learn.fit_one_cycle(20, 1e-3)"
   ]
  },
  {
   "cell_type": "code",
   "execution_count": 18,
   "metadata": {
    "execution": {
     "iopub.status.busy": "2025-10-06T04:46:10.085720Z",
     "iopub.status.idle": "2025-10-06T04:46:10.086393Z",
     "shell.execute_reply": "2025-10-06T04:46:10.086102Z"
    },
    "trusted": true
   },
   "outputs": [
    {
     "data": {
      "text/html": [
       "\n",
       "<style>\n",
       "    /* Turns off some styling */\n",
       "    progress {\n",
       "        /* gets rid of default border in Firefox and Opera. */\n",
       "        border: none;\n",
       "        /* Needs to be in here for Safari polyfill so background images work as expected. */\n",
       "        background-size: auto;\n",
       "    }\n",
       "    progress:not([value]), progress:not([value])::-webkit-progress-bar {\n",
       "        background: repeating-linear-gradient(45deg, #7e7e7e, #7e7e7e 10px, #5c5c5c 10px, #5c5c5c 20px);\n",
       "    }\n",
       "    .progress-bar-interrupted, .progress-bar-interrupted::-webkit-progress-bar {\n",
       "        background: #F44336;\n",
       "    }\n",
       "</style>\n"
      ],
      "text/plain": [
       "<IPython.core.display.HTML object>"
      ]
     },
     "metadata": {},
     "output_type": "display_data"
    },
    {
     "data": {
      "text/html": [],
      "text/plain": [
       "<IPython.core.display.HTML object>"
      ]
     },
     "metadata": {},
     "output_type": "display_data"
    },
    {
     "data": {
      "text/plain": [
       "SuggestedLRs(valley=0.001737800776027143)"
      ]
     },
     "execution_count": 18,
     "metadata": {},
     "output_type": "execute_result"
    },
    {
     "data": {
      "image/png": "[encoded data removed]",
      "text/plain": [
       "<Figure size 640x480 with 1 Axes>"
      ]
     },
     "metadata": {},
     "output_type": "display_data"
    }
   ],
   "source": [
    "learn.lr_find()"
   ]
  },
  {
   "cell_type": "code",
   "execution_count": 19,
   "metadata": {
    "execution": {
     "iopub.status.busy": "2025-10-06T04:46:10.087373Z",
     "iopub.status.idle": "2025-10-06T04:46:10.088058Z",
     "shell.execute_reply": "2025-10-06T04:46:10.087675Z"
    },
    "trusted": true
   },
   "outputs": [
    {
     "data": {
      "text/html": [
       "\n",
       "<style>\n",
       "    /* Turns off some styling */\n",
       "    progress {\n",
       "        /* gets rid of default border in Firefox and Opera. */\n",
       "        border: none;\n",
       "        /* Needs to be in here for Safari polyfill so background images work as expected. */\n",
       "        background-size: auto;\n",
       "    }\n",
       "    progress:not([value]), progress:not([value])::-webkit-progress-bar {\n",
       "        background: repeating-linear-gradient(45deg, #7e7e7e, #7e7e7e 10px, #5c5c5c 10px, #5c5c5c 20px);\n",
       "    }\n",
       "    .progress-bar-interrupted, .progress-bar-interrupted::-webkit-progress-bar {\n",
       "        background: #F44336;\n",
       "    }\n",
       "</style>\n"
      ],
      "text/plain": [
       "<IPython.core.display.HTML object>"
      ]
     },
     "metadata": {},
     "output_type": "display_data"
    },
    {
     "data": {
      "text/html": [
       "<table border=\"1\" class=\"dataframe\">\n",
       "  <thead>\n",
       "    <tr style=\"text-align: left;\">\n",
       "      <th>epoch</th>\n",
       "      <th>train_loss</th>\n",
       "      <th>valid_loss</th>\n",
       "      <th>lwlrap</th>\n",
       "      <th>time</th>\n",
       "    </tr>\n",
       "  </thead>\n",
       "  <tbody>\n",
       "    <tr>\n",
       "      <td>0</td>\n",
       "      <td>0.072176</td>\n",
       "      <td>0.106574</td>\n",
       "      <td>0.205103</td>\n",
       "      <td>00:01</td>\n",
       "    </tr>\n",
       "    <tr>\n",
       "      <td>1</td>\n",
       "      <td>0.072414</td>\n",
       "      <td>0.088814</td>\n",
       "      <td>0.220243</td>\n",
       "      <td>00:01</td>\n",
       "    </tr>\n",
       "    <tr>\n",
       "      <td>2</td>\n",
       "      <td>0.072878</td>\n",
       "      <td>0.082714</td>\n",
       "      <td>0.204748</td>\n",
       "      <td>00:01</td>\n",
       "    </tr>\n",
       "    <tr>\n",
       "      <td>3</td>\n",
       "      <td>0.072861</td>\n",
       "      <td>0.097917</td>\n",
       "      <td>0.223588</td>\n",
       "      <td>00:01</td>\n",
       "    </tr>\n",
       "    <tr>\n",
       "      <td>4</td>\n",
       "      <td>0.072425</td>\n",
       "      <td>0.095006</td>\n",
       "      <td>0.211609</td>\n",
       "      <td>00:01</td>\n",
       "    </tr>\n",
       "    <tr>\n",
       "      <td>5</td>\n",
       "      <td>0.072157</td>\n",
       "      <td>0.104680</td>\n",
       "      <td>0.185304</td>\n",
       "      <td>00:01</td>\n",
       "    </tr>\n",
       "    <tr>\n",
       "      <td>6</td>\n",
       "      <td>0.071765</td>\n",
       "      <td>0.090378</td>\n",
       "      <td>0.243944</td>\n",
       "      <td>00:01</td>\n",
       "    </tr>\n",
       "    <tr>\n",
       "      <td>7</td>\n",
       "      <td>0.071718</td>\n",
       "      <td>0.085106</td>\n",
       "      <td>0.233453</td>\n",
       "      <td>00:01</td>\n",
       "    </tr>\n",
       "    <tr>\n",
       "      <td>8</td>\n",
       "      <td>0.072023</td>\n",
       "      <td>0.069725</td>\n",
       "      <td>0.210199</td>\n",
       "      <td>00:01</td>\n",
       "    </tr>\n",
       "    <tr>\n",
       "      <td>9</td>\n",
       "      <td>0.072133</td>\n",
       "      <td>0.068109</td>\n",
       "      <td>0.248903</td>\n",
       "      <td>00:01</td>\n",
       "    </tr>\n",
       "    <tr>\n",
       "      <td>10</td>\n",
       "      <td>0.071962</td>\n",
       "      <td>0.141553</td>\n",
       "      <td>0.193578</td>\n",
       "      <td>00:01</td>\n",
       "    </tr>\n",
       "    <tr>\n",
       "      <td>11</td>\n",
       "      <td>0.071953</td>\n",
       "      <td>0.116224</td>\n",
       "      <td>0.219558</td>\n",
       "      <td>00:01</td>\n",
       "    </tr>\n",
       "    <tr>\n",
       "      <td>12</td>\n",
       "      <td>0.071490</td>\n",
       "      <td>0.080463</td>\n",
       "      <td>0.236229</td>\n",
       "      <td>00:01</td>\n",
       "    </tr>\n",
       "    <tr>\n",
       "      <td>13</td>\n",
       "      <td>0.070772</td>\n",
       "      <td>0.069047</td>\n",
       "      <td>0.287346</td>\n",
       "      <td>00:01</td>\n",
       "    </tr>\n",
       "    <tr>\n",
       "      <td>14</td>\n",
       "      <td>0.070122</td>\n",
       "      <td>0.074659</td>\n",
       "      <td>0.284527</td>\n",
       "      <td>00:01</td>\n",
       "    </tr>\n",
       "    <tr>\n",
       "      <td>15</td>\n",
       "      <td>0.069514</td>\n",
       "      <td>0.070753</td>\n",
       "      <td>0.266924</td>\n",
       "      <td>00:01</td>\n",
       "    </tr>\n",
       "    <tr>\n",
       "      <td>16</td>\n",
       "      <td>0.069183</td>\n",
       "      <td>0.077173</td>\n",
       "      <td>0.325230</td>\n",
       "      <td>00:01</td>\n",
       "    </tr>\n",
       "    <tr>\n",
       "      <td>17</td>\n",
       "      <td>0.068715</td>\n",
       "      <td>0.091011</td>\n",
       "      <td>0.323857</td>\n",
       "      <td>00:01</td>\n",
       "    </tr>\n",
       "    <tr>\n",
       "      <td>18</td>\n",
       "      <td>0.068106</td>\n",
       "      <td>0.085259</td>\n",
       "      <td>0.325874</td>\n",
       "      <td>00:01</td>\n",
       "    </tr>\n",
       "    <tr>\n",
       "      <td>19</td>\n",
       "      <td>0.067587</td>\n",
       "      <td>0.087676</td>\n",
       "      <td>0.315064</td>\n",
       "      <td>00:01</td>\n",
       "    </tr>\n",
       "    <tr>\n",
       "      <td>20</td>\n",
       "      <td>0.066753</td>\n",
       "      <td>0.075016</td>\n",
       "      <td>0.323925</td>\n",
       "      <td>00:01</td>\n",
       "    </tr>\n",
       "    <tr>\n",
       "      <td>21</td>\n",
       "      <td>0.066217</td>\n",
       "      <td>0.071540</td>\n",
       "      <td>0.326815</td>\n",
       "      <td>00:01</td>\n",
       "    </tr>\n",
       "    <tr>\n",
       "      <td>22</td>\n",
       "      <td>0.065901</td>\n",
       "      <td>0.071818</td>\n",
       "      <td>0.330782</td>\n",
       "      <td>00:01</td>\n",
       "    </tr>\n",
       "    <tr>\n",
       "      <td>23</td>\n",
       "      <td>0.065183</td>\n",
       "      <td>0.100508</td>\n",
       "      <td>0.335362</td>\n",
       "      <td>00:01</td>\n",
       "    </tr>\n",
       "    <tr>\n",
       "      <td>24</td>\n",
       "      <td>0.064424</td>\n",
       "      <td>0.091026</td>\n",
       "      <td>0.304491</td>\n",
       "      <td>00:01</td>\n",
       "    </tr>\n",
       "    <tr>\n",
       "      <td>25</td>\n",
       "      <td>0.064242</td>\n",
       "      <td>0.081898</td>\n",
       "      <td>0.321339</td>\n",
       "      <td>00:01</td>\n",
       "    </tr>\n",
       "    <tr>\n",
       "      <td>26</td>\n",
       "      <td>0.063624</td>\n",
       "      <td>0.074590</td>\n",
       "      <td>0.331367</td>\n",
       "      <td>00:01</td>\n",
       "    </tr>\n",
       "    <tr>\n",
       "      <td>27</td>\n",
       "      <td>0.063336</td>\n",
       "      <td>0.067204</td>\n",
       "      <td>0.342723</td>\n",
       "      <td>00:01</td>\n",
       "    </tr>\n",
       "    <tr>\n",
       "      <td>28</td>\n",
       "      <td>0.062903</td>\n",
       "      <td>0.064855</td>\n",
       "      <td>0.344039</td>\n",
       "      <td>00:01</td>\n",
       "    </tr>\n",
       "    <tr>\n",
       "      <td>29</td>\n",
       "      <td>0.062539</td>\n",
       "      <td>0.065192</td>\n",
       "      <td>0.368540</td>\n",
       "      <td>00:01</td>\n",
       "    </tr>\n",
       "    <tr>\n",
       "      <td>30</td>\n",
       "      <td>0.062545</td>\n",
       "      <td>0.077241</td>\n",
       "      <td>0.353478</td>\n",
       "      <td>00:01</td>\n",
       "    </tr>\n",
       "    <tr>\n",
       "      <td>31</td>\n",
       "      <td>0.062252</td>\n",
       "      <td>0.072713</td>\n",
       "      <td>0.360380</td>\n",
       "      <td>00:01</td>\n",
       "    </tr>\n",
       "    <tr>\n",
       "      <td>32</td>\n",
       "      <td>0.061716</td>\n",
       "      <td>0.064271</td>\n",
       "      <td>0.352525</td>\n",
       "      <td>00:01</td>\n",
       "    </tr>\n",
       "    <tr>\n",
       "      <td>33</td>\n",
       "      <td>0.061291</td>\n",
       "      <td>0.072126</td>\n",
       "      <td>0.352659</td>\n",
       "      <td>00:01</td>\n",
       "    </tr>\n",
       "    <tr>\n",
       "      <td>34</td>\n",
       "      <td>0.060789</td>\n",
       "      <td>0.069005</td>\n",
       "      <td>0.353292</td>\n",
       "      <td>00:01</td>\n",
       "    </tr>\n",
       "    <tr>\n",
       "      <td>35</td>\n",
       "      <td>0.060343</td>\n",
       "      <td>0.075492</td>\n",
       "      <td>0.373208</td>\n",
       "      <td>00:01</td>\n",
       "    </tr>\n",
       "    <tr>\n",
       "      <td>36</td>\n",
       "      <td>0.059794</td>\n",
       "      <td>0.073821</td>\n",
       "      <td>0.361747</td>\n",
       "      <td>00:01</td>\n",
       "    </tr>\n",
       "    <tr>\n",
       "      <td>37</td>\n",
       "      <td>0.059876</td>\n",
       "      <td>0.087809</td>\n",
       "      <td>0.371921</td>\n",
       "      <td>00:01</td>\n",
       "    </tr>\n",
       "    <tr>\n",
       "      <td>38</td>\n",
       "      <td>0.059820</td>\n",
       "      <td>0.075904</td>\n",
       "      <td>0.362332</td>\n",
       "      <td>00:01</td>\n",
       "    </tr>\n",
       "    <tr>\n",
       "      <td>39</td>\n",
       "      <td>0.059560</td>\n",
       "      <td>0.076684</td>\n",
       "      <td>0.358757</td>\n",
       "      <td>00:01</td>\n",
       "    </tr>\n",
       "    <tr>\n",
       "      <td>40</td>\n",
       "      <td>0.059337</td>\n",
       "      <td>0.074834</td>\n",
       "      <td>0.361669</td>\n",
       "      <td>00:01</td>\n",
       "    </tr>\n",
       "    <tr>\n",
       "      <td>41</td>\n",
       "      <td>0.058812</td>\n",
       "      <td>0.088150</td>\n",
       "      <td>0.361277</td>\n",
       "      <td>00:01</td>\n",
       "    </tr>\n",
       "    <tr>\n",
       "      <td>42</td>\n",
       "      <td>0.058873</td>\n",
       "      <td>0.064882</td>\n",
       "      <td>0.356931</td>\n",
       "      <td>00:01</td>\n",
       "    </tr>\n",
       "    <tr>\n",
       "      <td>43</td>\n",
       "      <td>0.058670</td>\n",
       "      <td>0.078124</td>\n",
       "      <td>0.373780</td>\n",
       "      <td>00:01</td>\n",
       "    </tr>\n",
       "    <tr>\n",
       "      <td>44</td>\n",
       "      <td>0.058326</td>\n",
       "      <td>0.085475</td>\n",
       "      <td>0.367833</td>\n",
       "      <td>00:01</td>\n",
       "    </tr>\n",
       "    <tr>\n",
       "      <td>45</td>\n",
       "      <td>0.058219</td>\n",
       "      <td>0.069779</td>\n",
       "      <td>0.368590</td>\n",
       "      <td>00:01</td>\n",
       "    </tr>\n",
       "    <tr>\n",
       "      <td>46</td>\n",
       "      <td>0.058172</td>\n",
       "      <td>0.079247</td>\n",
       "      <td>0.366688</td>\n",
       "      <td>00:01</td>\n",
       "    </tr>\n",
       "    <tr>\n",
       "      <td>47</td>\n",
       "      <td>0.058217</td>\n",
       "      <td>0.098152</td>\n",
       "      <td>0.392378</td>\n",
       "      <td>00:01</td>\n",
       "    </tr>\n",
       "    <tr>\n",
       "      <td>48</td>\n",
       "      <td>0.058106</td>\n",
       "      <td>0.100529</td>\n",
       "      <td>0.349895</td>\n",
       "      <td>00:01</td>\n",
       "    </tr>\n",
       "    <tr>\n",
       "      <td>49</td>\n",
       "      <td>0.058262</td>\n",
       "      <td>0.075299</td>\n",
       "      <td>0.365824</td>\n",
       "      <td>00:01</td>\n",
       "    </tr>\n",
       "  </tbody>\n",
       "</table>"
      ],
      "text/plain": [
       "<IPython.core.display.HTML object>"
      ]
     },
     "metadata": {},
     "output_type": "display_data"
    }
   ],
   "source": [
    "learn.fit_one_cycle(50, slice(1e-3, 3e-3))"
   ]
  },
  {
   "cell_type": "code",
   "execution_count": 20,
   "metadata": {
    "execution": {
     "iopub.status.busy": "2025-10-06T04:46:10.088783Z",
     "iopub.status.idle": "2025-10-06T04:46:10.089383Z",
     "shell.execute_reply": "2025-10-06T04:46:10.089123Z"
    },
    "trusted": true
   },
   "outputs": [
    {
     "data": {
      "text/html": [
       "\n",
       "<style>\n",
       "    /* Turns off some styling */\n",
       "    progress {\n",
       "        /* gets rid of default border in Firefox and Opera. */\n",
       "        border: none;\n",
       "        /* Needs to be in here for Safari polyfill so background images work as expected. */\n",
       "        background-size: auto;\n",
       "    }\n",
       "    progress:not([value]), progress:not([value])::-webkit-progress-bar {\n",
       "        background: repeating-linear-gradient(45deg, #7e7e7e, #7e7e7e 10px, #5c5c5c 10px, #5c5c5c 20px);\n",
       "    }\n",
       "    .progress-bar-interrupted, .progress-bar-interrupted::-webkit-progress-bar {\n",
       "        background: #F44336;\n",
       "    }\n",
       "</style>\n"
      ],
      "text/plain": [
       "<IPython.core.display.HTML object>"
      ]
     },
     "metadata": {},
     "output_type": "display_data"
    },
    {
     "data": {
      "text/html": [
       "<table border=\"1\" class=\"dataframe\">\n",
       "  <thead>\n",
       "    <tr style=\"text-align: left;\">\n",
       "      <th>epoch</th>\n",
       "      <th>train_loss</th>\n",
       "      <th>valid_loss</th>\n",
       "      <th>lwlrap</th>\n",
       "      <th>time</th>\n",
       "    </tr>\n",
       "  </thead>\n",
       "  <tbody>\n",
       "    <tr>\n",
       "      <td>0</td>\n",
       "      <td>0.057537</td>\n",
       "      <td>0.081685</td>\n",
       "      <td>0.374874</td>\n",
       "      <td>00:01</td>\n",
       "    </tr>\n",
       "    <tr>\n",
       "      <td>1</td>\n",
       "      <td>0.058304</td>\n",
       "      <td>0.077869</td>\n",
       "      <td>0.355518</td>\n",
       "      <td>00:01</td>\n",
       "    </tr>\n",
       "    <tr>\n",
       "      <td>2</td>\n",
       "      <td>0.058426</td>\n",
       "      <td>0.084629</td>\n",
       "      <td>0.374321</td>\n",
       "      <td>00:01</td>\n",
       "    </tr>\n",
       "    <tr>\n",
       "      <td>3</td>\n",
       "      <td>0.059404</td>\n",
       "      <td>0.077774</td>\n",
       "      <td>0.374116</td>\n",
       "      <td>00:01</td>\n",
       "    </tr>\n",
       "    <tr>\n",
       "      <td>4</td>\n",
       "      <td>0.059400</td>\n",
       "      <td>0.077485</td>\n",
       "      <td>0.378475</td>\n",
       "      <td>00:01</td>\n",
       "    </tr>\n",
       "    <tr>\n",
       "      <td>5</td>\n",
       "      <td>0.058895</td>\n",
       "      <td>0.075424</td>\n",
       "      <td>0.361617</td>\n",
       "      <td>00:01</td>\n",
       "    </tr>\n",
       "    <tr>\n",
       "      <td>6</td>\n",
       "      <td>0.058763</td>\n",
       "      <td>0.082428</td>\n",
       "      <td>0.384760</td>\n",
       "      <td>00:01</td>\n",
       "    </tr>\n",
       "    <tr>\n",
       "      <td>7</td>\n",
       "      <td>0.058447</td>\n",
       "      <td>0.061967</td>\n",
       "      <td>0.367075</td>\n",
       "      <td>00:01</td>\n",
       "    </tr>\n",
       "    <tr>\n",
       "      <td>8</td>\n",
       "      <td>0.058275</td>\n",
       "      <td>0.075583</td>\n",
       "      <td>0.387511</td>\n",
       "      <td>00:01</td>\n",
       "    </tr>\n",
       "    <tr>\n",
       "      <td>9</td>\n",
       "      <td>0.057674</td>\n",
       "      <td>0.062777</td>\n",
       "      <td>0.370489</td>\n",
       "      <td>00:01</td>\n",
       "    </tr>\n",
       "  </tbody>\n",
       "</table>"
      ],
      "text/plain": [
       "<IPython.core.display.HTML object>"
      ]
     },
     "metadata": {},
     "output_type": "display_data"
    }
   ],
   "source": [
    "learn.fit_one_cycle(10, slice(1e-4, 1e-3))"
   ]
  },
  {
   "cell_type": "markdown",
   "metadata": {},
   "source": [
    "## Let's check how filters are"
   ]
  },
  {
   "cell_type": "code",
   "execution_count": 21,
   "metadata": {
    "execution": {
     "iopub.status.busy": "2025-10-06T04:46:10.089993Z",
     "iopub.status.idle": "2025-10-06T04:46:10.090547Z",
     "shell.execute_reply": "2025-10-06T04:46:10.090294Z"
    },
    "trusted": true
   },
   "outputs": [
    {
     "data": {
      "image/png": "[encoded data removed]",
      "text/plain": [
       "<Figure size 800x800 with 64 Axes>"
      ]
     },
     "metadata": {},
     "output_type": "display_data"
    }
   ],
   "source": [
    "# https://discuss.pytorch.org/t/how-to-visualize-the-actual-convolution-filters-in-cnn/13850\n",
    "from sklearn.preprocessing import minmax_scale\n",
    "\n",
    "def visualize_first_layer(learn, save_name=None):\n",
    "    conv1 = list(learn.model.children())[0][0]\n",
    "    if isinstance(conv1, torch.nn.modules.container.Sequential):\n",
    "        conv1 = conv1[0] # for some models, 1 layer inside\n",
    "    weights = conv1.weight.data.cpu().numpy()\n",
    "    weights_shape = weights.shape\n",
    "    weights = minmax_scale(weights.ravel()).reshape(weights_shape)\n",
    "    fig, axes = plt.subplots(8, 8, figsize=(8,8))\n",
    "    for i, ax in enumerate(axes.flat):\n",
    "        ax.imshow(np.rollaxis(weights[i], 0, 3))\n",
    "        ax.get_xaxis().set_visible(False)\n",
    "        ax.get_yaxis().set_visible(False)\n",
    "    if save_name:\n",
    "        fig.savefig(str(save_name))\n",
    "\n",
    "visualize_first_layer(learn)"
   ]
  },
  {
   "cell_type": "code",
   "execution_count": 22,
   "metadata": {
    "execution": {
     "iopub.status.busy": "2025-10-06T04:46:10.091264Z",
     "iopub.status.idle": "2025-10-06T04:46:10.091852Z",
     "shell.execute_reply": "2025-10-06T04:46:10.091619Z"
    },
    "trusted": true
   },
   "outputs": [],
   "source": [
    "learn.save('fat2019_fastai_cnn2d_stage-2')\n",
    "learn.export('export.pkl')"
   ]
  },
  {
   "cell_type": "markdown",
   "metadata": {},
   "source": [
    "## Test prediction and making submission file simple\n",
    "- Switch to test data.\n",
    "- Overwrite results to sample submission; simple way to prepare submission file.\n",
    "- Now using TTA (Test Time Augmentation)!"
   ]
  },
  {
   "cell_type": "code",
   "execution_count": 23,
   "metadata": {
    "execution": {
     "iopub.status.busy": "2025-10-06T04:46:10.092580Z",
     "iopub.status.idle": "2025-10-06T04:46:10.093130Z",
     "shell.execute_reply": "2025-10-06T04:46:10.092817Z"
    },
    "trusted": true
   },
   "outputs": [
    {
     "name": "stderr",
     "output_type": "stream",
     "text": [
      "/opt/anaconda3/envs/torch/lib/python3.12/site-packages/fastai/data/transforms.py:305: UserWarning: Couldn't infer the number of classes, please pass a value for `c` at init\n",
      "  if not self.c: warn(\"Couldn't infer the number of classes, please pass a value for `c` at init\")\n"
     ]
    },
    {
     "data": {
      "text/html": [
       "\n",
       "<style>\n",
       "    /* Turns off some styling */\n",
       "    progress {\n",
       "        /* gets rid of default border in Firefox and Opera. */\n",
       "        border: none;\n",
       "        /* Needs to be in here for Safari polyfill so background images work as expected. */\n",
       "        background-size: auto;\n",
       "    }\n",
       "    progress:not([value]), progress:not([value])::-webkit-progress-bar {\n",
       "        background: repeating-linear-gradient(45deg, #7e7e7e, #7e7e7e 10px, #5c5c5c 10px, #5c5c5c 20px);\n",
       "    }\n",
       "    .progress-bar-interrupted, .progress-bar-interrupted::-webkit-progress-bar {\n",
       "        background: #F44336;\n",
       "    }\n",
       "</style>\n"
      ],
      "text/plain": [
       "<IPython.core.display.HTML object>"
      ]
     },
     "metadata": {},
     "output_type": "display_data"
    },
    {
     "data": {
      "text/html": [
       "\n",
       "    <div>\n",
       "      <progress value='0' class='' max='10' style='width:300px; height:20px; vertical-align: middle;'></progress>\n",
       "      \n",
       "    </div>\n",
       "    \n"
      ],
      "text/plain": [
       "<IPython.core.display.HTML object>"
      ]
     },
     "metadata": {},
     "output_type": "display_data"
    },
    {
     "data": {
      "text/html": [
       "\n",
       "<style>\n",
       "    /* Turns off some styling */\n",
       "    progress {\n",
       "        /* gets rid of default border in Firefox and Opera. */\n",
       "        border: none;\n",
       "        /* Needs to be in here for Safari polyfill so background images work as expected. */\n",
       "        background-size: auto;\n",
       "    }\n",
       "    progress:not([value]), progress:not([value])::-webkit-progress-bar {\n",
       "        background: repeating-linear-gradient(45deg, #7e7e7e, #7e7e7e 10px, #5c5c5c 10px, #5c5c5c 20px);\n",
       "    }\n",
       "    .progress-bar-interrupted, .progress-bar-interrupted::-webkit-progress-bar {\n",
       "        background: #F44336;\n",
       "    }\n",
       "</style>\n"
      ],
      "text/plain": [
       "<IPython.core.display.HTML object>"
      ]
     },
     "metadata": {},
     "output_type": "display_data"
    },
    {
     "data": {
      "text/html": [],
      "text/plain": [
       "<IPython.core.display.HTML object>"
      ]
     },
     "metadata": {},
     "output_type": "display_data"
    }
   ],
   "source": [
    "CUR_X_FILES, CUR_X = list(test_df.fname.values), X_test\n",
    "\n",
    "# Create test DataBlock\n",
    "test_dblock = DataBlock(\n",
    "    blocks=(ImageBlock, MultiCategoryBlock),\n",
    "    get_x=ColReader('fname', pref=WORK/'image/test'),\n",
    "    get_y=lambda x: [],  # No labels for test\n",
    "    item_tfms=Resize(128),\n",
    "    batch_tfms=Normalize.from_stats(*imagenet_stats)\n",
    ")\n",
    "\n",
    "# Override the image opener\n",
    "test_dblock.type_tfms[0] = ImageOpener()\n",
    "\n",
    "# Create test DataLoader\n",
    "test_dl = test_dblock.dataloaders(test_df, bs=64).test_dl(test_df)\n",
    "\n",
    "# Get predictions with TTA (Test Time Augmentation)\n",
    "preds, _ = learn.tta(dl=test_dl)"
   ]
  },
  {
   "cell_type": "code",
   "execution_count": 24,
   "metadata": {
    "execution": {
     "iopub.status.busy": "2025-10-06T04:46:10.093789Z",
     "iopub.status.idle": "2025-10-06T04:46:10.094367Z",
     "shell.execute_reply": "2025-10-06T04:46:10.094013Z"
    },
    "trusted": true
   },
   "outputs": [
    {
     "data": {
      "text/html": [
       "<div>\n",
       "<style scoped>\n",
       "    .dataframe tbody tr th:only-of-type {\n",
       "        vertical-align: middle;\n",
       "    }\n",
       "\n",
       "    .dataframe tbody tr th {\n",
       "        vertical-align: top;\n",
       "    }\n",
       "\n",
       "    .dataframe thead th {\n",
       "        text-align: right;\n",
       "    }\n",
       "</style>\n",
       "<table border=\"1\" class=\"dataframe\">\n",
       "  <thead>\n",
       "    <tr style=\"text-align: right;\">\n",
       "      <th></th>\n",
       "      <th>fname</th>\n",
       "      <th>Accelerating_and_revving_and_vroom</th>\n",
       "      <th>Accordion</th>\n",
       "      <th>Acoustic_guitar</th>\n",
       "      <th>Applause</th>\n",
       "      <th>Bark</th>\n",
       "      <th>Bass_drum</th>\n",
       "      <th>Bass_guitar</th>\n",
       "      <th>Bathtub_(filling_or_washing)</th>\n",
       "      <th>Bicycle_bell</th>\n",
       "      <th>...</th>\n",
       "      <th>Toilet_flush</th>\n",
       "      <th>Traffic_noise_and_roadway_noise</th>\n",
       "      <th>Trickle_and_dribble</th>\n",
       "      <th>Walk_and_footsteps</th>\n",
       "      <th>Water_tap_and_faucet</th>\n",
       "      <th>Waves_and_surf</th>\n",
       "      <th>Whispering</th>\n",
       "      <th>Writing</th>\n",
       "      <th>Yell</th>\n",
       "      <th>Zipper_(clothing)</th>\n",
       "    </tr>\n",
       "  </thead>\n",
       "  <tbody>\n",
       "    <tr>\n",
       "      <th>0</th>\n",
       "      <td>4260ebea.wav</td>\n",
       "      <td>0.000981</td>\n",
       "      <td>0.000647</td>\n",
       "      <td>0.000024</td>\n",
       "      <td>0.007256</td>\n",
       "      <td>0.000600</td>\n",
       "      <td>0.000242</td>\n",
       "      <td>0.000006</td>\n",
       "      <td>0.013112</td>\n",
       "      <td>0.017113</td>\n",
       "      <td>...</td>\n",
       "      <td>0.035632</td>\n",
       "      <td>0.000545</td>\n",
       "      <td>0.025800</td>\n",
       "      <td>0.006627</td>\n",
       "      <td>0.027927</td>\n",
       "      <td>0.008799</td>\n",
       "      <td>0.007867</td>\n",
       "      <td>0.008082</td>\n",
       "      <td>0.006466</td>\n",
       "      <td>0.008204</td>\n",
       "    </tr>\n",
       "    <tr>\n",
       "      <th>1</th>\n",
       "      <td>426eb1e0.wav</td>\n",
       "      <td>0.005202</td>\n",
       "      <td>0.000301</td>\n",
       "      <td>0.000260</td>\n",
       "      <td>0.320088</td>\n",
       "      <td>0.000905</td>\n",
       "      <td>0.000066</td>\n",
       "      <td>0.000001</td>\n",
       "      <td>0.042998</td>\n",
       "      <td>0.000444</td>\n",
       "      <td>...</td>\n",
       "      <td>0.046258</td>\n",
       "      <td>0.002817</td>\n",
       "      <td>0.035511</td>\n",
       "      <td>0.004661</td>\n",
       "      <td>0.055673</td>\n",
       "      <td>0.020744</td>\n",
       "      <td>0.001919</td>\n",
       "      <td>0.001142</td>\n",
       "      <td>0.003398</td>\n",
       "      <td>0.000919</td>\n",
       "    </tr>\n",
       "    <tr>\n",
       "      <th>2</th>\n",
       "      <td>428d70bb.wav</td>\n",
       "      <td>0.006763</td>\n",
       "      <td>0.003489</td>\n",
       "      <td>0.001156</td>\n",
       "      <td>0.004140</td>\n",
       "      <td>0.022258</td>\n",
       "      <td>0.001423</td>\n",
       "      <td>0.000101</td>\n",
       "      <td>0.011443</td>\n",
       "      <td>0.003935</td>\n",
       "      <td>...</td>\n",
       "      <td>0.017376</td>\n",
       "      <td>0.003816</td>\n",
       "      <td>0.005400</td>\n",
       "      <td>0.028810</td>\n",
       "      <td>0.007576</td>\n",
       "      <td>0.007494</td>\n",
       "      <td>0.010316</td>\n",
       "      <td>0.010021</td>\n",
       "      <td>0.015834</td>\n",
       "      <td>0.022807</td>\n",
       "    </tr>\n",
       "    <tr>\n",
       "      <th>3</th>\n",
       "      <td>4292b1c9.wav</td>\n",
       "      <td>0.001823</td>\n",
       "      <td>0.003252</td>\n",
       "      <td>0.001049</td>\n",
       "      <td>0.000443</td>\n",
       "      <td>0.005876</td>\n",
       "      <td>0.002892</td>\n",
       "      <td>0.000586</td>\n",
       "      <td>0.007117</td>\n",
       "      <td>0.000873</td>\n",
       "      <td>...</td>\n",
       "      <td>0.003221</td>\n",
       "      <td>0.001278</td>\n",
       "      <td>0.002899</td>\n",
       "      <td>0.021044</td>\n",
       "      <td>0.005244</td>\n",
       "      <td>0.001949</td>\n",
       "      <td>0.019885</td>\n",
       "      <td>0.017358</td>\n",
       "      <td>0.004910</td>\n",
       "      <td>0.017989</td>\n",
       "    </tr>\n",
       "    <tr>\n",
       "      <th>4</th>\n",
       "      <td>429c5071.wav</td>\n",
       "      <td>0.010997</td>\n",
       "      <td>0.000431</td>\n",
       "      <td>0.005027</td>\n",
       "      <td>0.001576</td>\n",
       "      <td>0.009120</td>\n",
       "      <td>0.010701</td>\n",
       "      <td>0.003160</td>\n",
       "      <td>0.004626</td>\n",
       "      <td>0.005082</td>\n",
       "      <td>...</td>\n",
       "      <td>0.012499</td>\n",
       "      <td>0.005922</td>\n",
       "      <td>0.001808</td>\n",
       "      <td>0.036669</td>\n",
       "      <td>0.005466</td>\n",
       "      <td>0.006412</td>\n",
       "      <td>0.014778</td>\n",
       "      <td>0.016207</td>\n",
       "      <td>0.005099</td>\n",
       "      <td>0.046216</td>\n",
       "    </tr>\n",
       "  </tbody>\n",
       "</table>\n",
       "<p>5 rows × 81 columns</p>\n",
       "</div>"
      ],
      "text/plain": [
       "          fname  Accelerating_and_revving_and_vroom  Accordion  \\\n",
       "0  4260ebea.wav                            0.000981   0.000647   \n",
       "1  426eb1e0.wav                            0.005202   0.000301   \n",
       "2  428d70bb.wav                            0.006763   0.003489   \n",
       "3  4292b1c9.wav                            0.001823   0.003252   \n",
       "4  429c5071.wav                            0.010997   0.000431   \n",
       "\n",
       "   Acoustic_guitar  Applause      Bark  Bass_drum  Bass_guitar  \\\n",
       "0         0.000024  0.007256  0.000600   0.000242     0.000006   \n",
       "1         0.000260  0.320088  0.000905   0.000066     0.000001   \n",
       "2         0.001156  0.004140  0.022258   0.001423     0.000101   \n",
       "3         0.001049  0.000443  0.005876   0.002892     0.000586   \n",
       "4         0.005027  0.001576  0.009120   0.010701     0.003160   \n",
       "\n",
       "   Bathtub_(filling_or_washing)  Bicycle_bell  ...  Toilet_flush  \\\n",
       "0                      0.013112      0.017113  ...      0.035632   \n",
       "1                      0.042998      0.000444  ...      0.046258   \n",
       "2                      0.011443      0.003935  ...      0.017376   \n",
       "3                      0.007117      0.000873  ...      0.003221   \n",
       "4                      0.004626      0.005082  ...      0.012499   \n",
       "\n",
       "   Traffic_noise_and_roadway_noise  Trickle_and_dribble  Walk_and_footsteps  \\\n",
       "0                         0.000545             0.025800            0.006627   \n",
       "1                         0.002817             0.035511            0.004661   \n",
       "2                         0.003816             0.005400            0.028810   \n",
       "3                         0.001278             0.002899            0.021044   \n",
       "4                         0.005922             0.001808            0.036669   \n",
       "\n",
       "   Water_tap_and_faucet  Waves_and_surf  Whispering   Writing      Yell  \\\n",
       "0              0.027927        0.008799    0.007867  0.008082  0.006466   \n",
       "1              0.055673        0.020744    0.001919  0.001142  0.003398   \n",
       "2              0.007576        0.007494    0.010316  0.010021  0.015834   \n",
       "3              0.005244        0.001949    0.019885  0.017358  0.004910   \n",
       "4              0.005466        0.006412    0.014778  0.016207  0.005099   \n",
       "\n",
       "   Zipper_(clothing)  \n",
       "0           0.008204  \n",
       "1           0.000919  \n",
       "2           0.022807  \n",
       "3           0.017989  \n",
       "4           0.046216  \n",
       "\n",
       "[5 rows x 81 columns]"
      ]
     },
     "execution_count": 24,
     "metadata": {},
     "output_type": "execute_result"
    }
   ],
   "source": [
    "import torch\n",
    "\n",
    "# Convert predictions to numpy array\n",
    "preds_array = preds.cpu().numpy() if isinstance(preds, torch.Tensor) else preds\n",
    "\n",
    "# Get vocab as list of strings\n",
    "vocab_list = list(dls.vocab)\n",
    "\n",
    "# Assign predictions to dataframe\n",
    "test_df[vocab_list] = preds_array\n",
    "test_df.to_csv('submission.csv', index=False)\n",
    "test_df.head()"
   ]
  },
  {
   "cell_type": "code",
   "execution_count": 25,
   "metadata": {
    "execution": {
     "iopub.status.busy": "2025-10-06T04:46:10.095159Z",
     "iopub.status.idle": "2025-10-06T04:46:10.095770Z",
     "shell.execute_reply": "2025-10-06T04:46:10.095365Z"
    },
    "trusted": true
   },
   "outputs": [],
   "source": [
    "CUR_X_FILES, CUR_X = list(df.fname.values), X_train\n",
    "learn = vision_learner(dls, resnet18, pretrained=False, metrics=lwlrap)\n",
    "learn.load('fat2019_fastai_cnn2d_stage-2');"
   ]
  },
  {
   "cell_type": "markdown",
   "metadata": {},
   "source": [
    "## Visualize by CAM"
   ]
  },
  {
   "cell_type": "code",
   "execution_count": 26,
   "metadata": {
    "execution": {
     "iopub.status.busy": "2025-10-06T04:46:10.096560Z",
     "iopub.status.idle": "2025-10-06T04:46:10.096909Z",
     "shell.execute_reply": "2025-10-06T04:46:10.096699Z"
    },
    "trusted": true
   },
   "outputs": [
    {
     "ename": "AttributeError",
     "evalue": "'PILImage' object has no attribute 'clone'",
     "output_type": "error",
     "traceback": [
      "\u001b[0;31m---------------------------------------------------------------------------\u001b[0m",
      "\u001b[0;31mAttributeError\u001b[0m                            Traceback (most recent call last)",
      "Cell \u001b[0;32mIn[26], line 45\u001b[0m\n\u001b[1;32m     42\u001b[0m     plt\u001b[38;5;241m.\u001b[39mshow()\n\u001b[1;32m     44\u001b[0m \u001b[38;5;28;01mfor\u001b[39;00m idx \u001b[38;5;129;01min\u001b[39;00m \u001b[38;5;28mrange\u001b[39m(\u001b[38;5;28mmin\u001b[39m(\u001b[38;5;241m10\u001b[39m, \u001b[38;5;28mlen\u001b[39m(dls\u001b[38;5;241m.\u001b[39mvalid\u001b[38;5;241m.\u001b[39mdataset))):\n\u001b[0;32m---> 45\u001b[0m     \u001b[43mvisualize_cnn_by_cam\u001b[49m\u001b[43m(\u001b[49m\u001b[43mlearn\u001b[49m\u001b[43m,\u001b[49m\u001b[43m \u001b[49m\u001b[43midx\u001b[49m\u001b[43m)\u001b[49m\n",
      "Cell \u001b[0;32mIn[26], line 8\u001b[0m, in \u001b[0;36mvisualize_cnn_by_cam\u001b[0;34m(learn, data_index)\u001b[0m\n\u001b[1;32m      5\u001b[0m x, y \u001b[38;5;241m=\u001b[39m dls\u001b[38;5;241m.\u001b[39mvalid\u001b[38;5;241m.\u001b[39mdataset[data_index]\n\u001b[1;32m      7\u001b[0m \u001b[38;5;66;03m# Get prediction\u001b[39;00m\n\u001b[0;32m----> 8\u001b[0m img \u001b[38;5;241m=\u001b[39m \u001b[43mx\u001b[49m\u001b[38;5;241;43m.\u001b[39;49m\u001b[43mclone\u001b[49m()\n\u001b[1;32m     10\u001b[0m \u001b[38;5;66;03m# Hook setup for GradCAM\u001b[39;00m\n\u001b[1;32m     11\u001b[0m \u001b[38;5;28;01mclass\u001b[39;00m \u001b[38;5;21;01mHook\u001b[39;00m():\n",
      "\u001b[0;31mAttributeError\u001b[0m: 'PILImage' object has no attribute 'clone'"
     ]
    }
   ],
   "source": [
    "# Thanks to https://nbviewer.jupyter.org/github/fastai/course-v3/blob/master/nbs/dl1/lesson6-pets-more.ipynb\n",
    "from fastai.vision.all import *\n",
    "\n",
    "def visualize_cnn_by_cam(learn, data_index):\n",
    "    x, y = dls.valid.dataset[data_index]\n",
    "    \n",
    "    # Get prediction\n",
    "    img = x.clone()\n",
    "    \n",
    "    # Hook setup for GradCAM\n",
    "    class Hook():\n",
    "        def __init__(self, m):\n",
    "            self.hook = m.register_forward_hook(self.hook_func)   \n",
    "        def hook_func(self, m, i, o): self.stored = o.detach().clone()\n",
    "        def __del__(self): self.hook.remove()\n",
    "    \n",
    "    class HookBwd():\n",
    "        def __init__(self, m):\n",
    "            self.hook = m.register_full_backward_hook(self.hook_func)   \n",
    "        def hook_func(self, m, gi, go): self.stored = go[0].detach().clone()\n",
    "        def __del__(self): self.hook.remove()\n",
    "    \n",
    "    with Hook(learn.model[0]) as hook_a:\n",
    "        with HookBwd(learn.model[0]) as hook_g:\n",
    "            preds = learn.model.eval()(x[None].cuda())\n",
    "            # For multi-label, visualize top prediction\n",
    "            top_cat = preds[0].argmax()\n",
    "            preds[0, top_cat].backward()\n",
    "    \n",
    "    acts = hook_a.stored[0].cpu()\n",
    "    grad = hook_g.stored[0][0].cpu()\n",
    "    grad_chan = grad.mean(1).mean(1)\n",
    "    mult = (acts * grad_chan[..., None, None]).mean(0)\n",
    "    \n",
    "    # Display\n",
    "    fig, axes = plt.subplots(1, 2, figsize=(12, 6))\n",
    "    x.show(ctx=axes[0])\n",
    "    axes[0].set_title(f'Image - True: {y}')\n",
    "    x.show(ctx=axes[1])\n",
    "    axes[1].imshow(mult, alpha=0.6, extent=(0, 128, 128, 0), interpolation='bilinear', cmap='magma')\n",
    "    axes[1].set_title(f'GradCAM - Pred: {dls.vocab[top_cat]}')\n",
    "    plt.show()\n",
    "\n",
    "for idx in range(min(10, len(dls.valid.dataset))):\n",
    "    visualize_cnn_by_cam(learn, idx)"
   ]
  },
  {
   "cell_type": "code",
   "execution_count": null,
   "metadata": {
    "trusted": true
   },
   "outputs": [],
   "source": []
  }
 ],
 "metadata": {
  "kaggle": {
   "accelerator": "gpu",
   "dataSources": [
    {
     "databundleVersionId": 503808,
     "sourceId": 10700,
     "sourceType": "competition"
    }
   ],
   "dockerImageVersionId": 25160,
   "isGpuEnabled": true,
   "isInternetEnabled": false,
   "language": "python",
   "sourceType": "notebook"
  },
  "kernelspec": {
   "display_name": "freesound",
   "language": "python",
   "name": "python3"
  },
  "language_info": {
   "codemirror_mode": {
    "name": "ipython",
    "version": 3
   },
   "file_extension": ".py",
   "mimetype": "text/x-python",
   "name": "python",
   "nbconvert_exporter": "python",
   "pygments_lexer": "ipython3",
   "version": "3.8.20"
  }
 },
 "nbformat": 4,
 "nbformat_minor": 4
}
