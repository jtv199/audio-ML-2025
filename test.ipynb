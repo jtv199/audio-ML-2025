{
 "cells": [
  {
   "cell_type": "code",
   "execution_count": 1,
   "id": "84c305ec",
   "metadata": {},
   "outputs": [],
   "source": [
    "import os\n",
    "\n",
    "import pandas as pd\n",
    "import numpy as np\n",
    "import librosa\n",
    "\n",
    "import glob\n",
    "\n",
    "from PIL import Image\n",
    "from tqdm import tqdm\n",
    "\n",
    "from concurrent.futures import ThreadPoolExecutor, as_completed"
   ]
  },
  {
   "cell_type": "code",
   "execution_count": 2,
   "id": "f35fe014",
   "metadata": {},
   "outputs": [
    {
     "data": {
      "text/plain": [
       "array([0, 0, 0, 0, 0, 0, 0, 0, 0, 0, 1, 2, 3, 0, 0, 0, 0, 0, 0, 0, 0, 0,\n",
       "       0])"
      ]
     },
     "execution_count": 2,
     "metadata": {},
     "output_type": "execute_result"
    }
   ],
   "source": [
    "np.pad([1,2,3],10,\"constant\")"
   ]
  },
  {
   "cell_type": "markdown",
   "id": "8f4934b1",
   "metadata": {},
   "source": [
    "## Preprocess all files\n",
    "Location: work/image/[sub]/[file].png"
   ]
  },
  {
   "cell_type": "code",
   "execution_count": 2,
   "id": "4a13901a",
   "metadata": {},
   "outputs": [
    {
     "data": {
      "text/plain": [
       "('input/trn_curated/ffe2178b.wav',\n",
       " ('work/trn_curated/ffe2178b/ft.png',\n",
       "  'work/trn_curated/ffe2178b/mel.png',\n",
       "  'work/trn_curated/ffe2178b/cqt.png'))"
      ]
     },
     "execution_count": 2,
     "metadata": {},
     "output_type": "execute_result"
    }
   ],
   "source": [
    "def get_files(type):\n",
    "    src_files = glob.glob(f\"input/{type}/*.wav\")\n",
    "    dst_files = [os.path.split(file) for file in src_files]\n",
    "    dst_files = [(path.split(\"/\")+file.split(\".\")) for (path, file) in dst_files]\n",
    "    dst_files = [(os.path.join(\"work\",f[1],f\"{f[2]}/ft.png\"),\n",
    "                os.path.join(\"work\",f[1],f\"{f[2]}/mel.png\"),\n",
    "                os.path.join(\"work\",f[1],f\"{f[2]}/cqt.png\")) for f in dst_files]\n",
    "    audio_files = [(src_files[i],dst_files[i]) for i in range(len(src_files))]\n",
    "    \n",
    "    return audio_files\n",
    "\n",
    "audio_files = get_files(\"trn_curated\")\n",
    "audio_files[0]"
   ]
  },
  {
   "cell_type": "code",
   "execution_count": 3,
   "id": "f847d10d",
   "metadata": {},
   "outputs": [],
   "source": [
    "def to_image(file):\n",
    "    # load file\n",
    "    y, sr = librosa.load(file)\n",
    "\n",
    "    # STFT\n",
    "    D = librosa.stft(y)\n",
    "    S_db = librosa.amplitude_to_db(np.abs(D), ref=np.max)\n",
    "\n",
    "    # Mel Spectrum\n",
    "    S = librosa.feature.melspectrogram(y=y, sr=sr)\n",
    "    S_db_mel = librosa.amplitude_to_db(S, ref=np.max)\n",
    "\n",
    "    # CQT\n",
    "    C = librosa.cqt(y, sr=sr)\n",
    "    C_db = librosa.amplitude_to_db(abs(C), ref=np.max)\n",
    "\n",
    "    # Normalization\n",
    "    S_db = np.clip(S_db, -80, 0)\n",
    "    S_db = 65535 * (S_db + 80) / 80.0\n",
    "\n",
    "    S_db_mel = np.clip(S_db_mel, -80, 0)\n",
    "    S_db_mel = 65535 * (S_db_mel + 80) / 80.0\n",
    "\n",
    "    C_db = np.clip(C_db, -80, 0)\n",
    "    C_db = 65535 * (C_db + 80) / 80.0\n",
    "\n",
    "    # to image\n",
    "    S_db = Image.fromarray(S_db.astype(np.uint16))\n",
    "    S_db_mel = Image.fromarray(S_db_mel.astype(np.uint16))\n",
    "    C_db = Image.fromarray(C_db.astype(np.uint16))\n",
    "\n",
    "    return S_db, S_db_mel, C_db"
   ]
  },
  {
   "cell_type": "code",
   "execution_count": 4,
   "id": "a1bf2356",
   "metadata": {},
   "outputs": [],
   "source": [
    "ft,mel,cqt = to_image(audio_files[4][0])\n",
    "ft.save(\"test.png\")"
   ]
  }
 ],
 "metadata": {
  "kernelspec": {
   "display_name": "torch",
   "language": "python",
   "name": "python3"
  },
  "language_info": {
   "codemirror_mode": {
    "name": "ipython",
    "version": 3
   },
   "file_extension": ".py",
   "mimetype": "text/x-python",
   "name": "python",
   "nbconvert_exporter": "python",
   "pygments_lexer": "ipython3",
   "version": "3.12.7"
  }
 },
 "nbformat": 4,
 "nbformat_minor": 5
}
