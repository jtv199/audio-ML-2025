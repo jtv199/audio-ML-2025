{
 "cells": [
  {
   "cell_type": "markdown",
   "metadata": {},
   "source": [
    "# Generate Frequency Statistics CSV\n",
    "\n",
    "This notebook extracts statistical features (mean and standard deviation) from audio spectrograms.\n",
    "\n",
    "**Output:** `work/trn_curated_feature.csv`\n",
    "\n",
    "For each audio file, it computes:\n",
    "- Mean and std for each STFT frequency band\n",
    "- Mean and std for each Mel frequency band (128 bands)\n",
    "- Mean and std for each CQT frequency band"
   ]
  },
  {
   "cell_type": "code",
   "execution_count": 1,
   "metadata": {},
   "outputs": [],
   "source": [
    "from preprocessor import AudioPreprocessor\n",
    "import os\n",
    "import glob\n",
    "import pandas as pd\n",
    "import numpy as np\n",
    "from PIL import Image\n",
    "from tqdm.notebook import tqdm"
   ]
  },
  {
   "cell_type": "code",
   "execution_count": 2,
   "metadata": {},
   "outputs": [],
   "source": [
    "def get_files(type):\n",
    "    \"\"\"Get list of audio files and their destination paths\"\"\"\n",
    "    src_files = glob.glob(f\"input/{type}/*.wav\")\n",
    "    dst_files = [os.path.split(file) for file in src_files]\n",
    "    dst_files = [(path.split(\"/\")+file.split(\".\")) for (path, file) in dst_files]\n",
    "    dst_files = [(os.path.join(\"work\",f[1],f\"{f[2]}/ft.png\"),\n",
    "                os.path.join(\"work\",f[1],f\"{f[2]}/mel.png\"),\n",
    "                os.path.join(\"work\",f[1],f\"{f[2]}/cqt.png\")) for f in dst_files]\n",
    "    audio_files = [(src_files[i],dst_files[i]) for i in range(len(src_files))]\n",
    "    \n",
    "    return audio_files"
   ]
  },
  {
   "cell_type": "code",
   "execution_count": 3,
   "metadata": {},
   "outputs": [
    {
     "name": "stdout",
     "output_type": "stream",
     "text": [
      "Found 4970 audio files to process\n",
      "Example: input/trn_curated/0006ae4e.wav\n"
     ]
    }
   ],
   "source": [
    "# Get sorted list of audio files\n",
    "audio_files = sorted(get_files(\"trn_curated\"))\n",
    "print(f\"Found {len(audio_files)} audio files to process\")\n",
    "print(f\"Example: {audio_files[0][0]}\")"
   ]
  },
  {
   "cell_type": "code",
   "execution_count": 4,
   "metadata": {},
   "outputs": [
    {
     "name": "stdout",
     "output_type": "stream",
     "text": [
      "AudioPreprocessor initialized with:\n",
      "  Sampling rate: 44100 Hz\n",
      "  Duration: 2 seconds\n",
      "  Mel bands: 128\n",
      "  Hop length: 512\n"
     ]
    }
   ],
   "source": [
    "# Initialize preprocessor\n",
    "ap = AudioPreprocessor()\n",
    "print(f\"AudioPreprocessor initialized with:\")\n",
    "print(f\"  Sampling rate: {ap.sampling_rate} Hz\")\n",
    "print(f\"  Duration: {ap.duration} seconds\")\n",
    "print(f\"  Mel bands: {ap.n_mels}\")\n",
    "print(f\"  Hop length: {ap.hop_length}\")"
   ]
  },
  {
   "cell_type": "code",
   "execution_count": 5,
   "metadata": {},
   "outputs": [
    {
     "data": {
      "application/vnd.jupyter.widget-view+json": {
       "model_id": "59e991f8acc54ac4be969c5fdcdf28ad",
       "version_major": 2,
       "version_minor": 0
      },
      "text/plain": [
       "Processing audio files:   0%|          | 0/4970 [00:00<?, ?it/s]"
      ]
     },
     "metadata": {},
     "output_type": "display_data"
    },
    {
     "name": "stderr",
     "output_type": "stream",
     "text": [
      "/mnt/c/Users/HighOrder/prog/kaggle/free-sound-audio-tagging-2019/preprocessor.py:111: RuntimeWarning: invalid value encountered in divide\n",
      "  spectrogram = (spectrogram - norm_min) / (norm_max - norm_min)\n"
     ]
    }
   ],
   "source": [
    "# Process all audio files\n",
    "files = []\n",
    "stft_means = []\n",
    "stft_stds = []\n",
    "mel_means = []\n",
    "mel_stds = []\n",
    "cqt_means = []\n",
    "cqt_stds = []\n",
    "\n",
    "for src, (stft_file, mel_file, cqt_file) in tqdm(audio_files, desc=\"Processing audio files\"):\n",
    "    # Read and process audio\n",
    "    y = ap.read_audio(src)\n",
    "    _, file = os.path.split(src)\n",
    "    \n",
    "    # Generate spectrograms and extract statistics\n",
    "    stft = ap.normalize(ap.trim_blank(ap.audio_to_stft(y)))\n",
    "    mel = ap.normalize(ap.trim_blank(ap.audio_to_mel(y)))\n",
    "    cqt = ap.normalize(ap.trim_blank(ap.audio_to_cqt(y)))\n",
    "    \n",
    "    stft_mean, stft_std = ap.get_statistics(stft)\n",
    "    mel_mean, mel_std = ap.get_statistics(mel)\n",
    "    cqt_mean, cqt_std = ap.get_statistics(cqt)\n",
    "    \n",
    "    # Store results\n",
    "    files.append(file)\n",
    "    stft_means.append(stft_mean)\n",
    "    stft_stds.append(stft_std)\n",
    "    mel_means.append(mel_mean)\n",
    "    mel_stds.append(mel_std)\n",
    "    cqt_means.append(cqt_mean)\n",
    "    cqt_stds.append(cqt_std)"
   ]
  },
  {
   "cell_type": "code",
   "execution_count": 6,
   "metadata": {},
   "outputs": [
    {
     "name": "stdout",
     "output_type": "stream",
     "text": [
      "\n",
      "Statistics shapes:\n",
      "  STFT means: (4970, 1025)\n",
      "  Mel means: (4970, 128)\n",
      "  CQT means: (4970, 84)\n"
     ]
    }
   ],
   "source": [
    "# Convert lists to numpy arrays\n",
    "stft_means = np.array(stft_means)\n",
    "stft_stds = np.array(stft_stds)\n",
    "mel_means = np.array(mel_means)\n",
    "mel_stds = np.array(mel_stds)\n",
    "cqt_means = np.array(cqt_means)\n",
    "cqt_stds = np.array(cqt_stds)\n",
    "\n",
    "print(f\"\\nStatistics shapes:\")\n",
    "print(f\"  STFT means: {stft_means.shape}\")\n",
    "print(f\"  Mel means: {mel_means.shape}\")\n",
    "print(f\"  CQT means: {cqt_means.shape}\")"
   ]
  },
  {
   "cell_type": "code",
   "execution_count": 7,
   "metadata": {},
   "outputs": [
    {
     "name": "stdout",
     "output_type": "stream",
     "text": [
      "\n",
      "DataFrame shape: (4970, 2475)\n",
      "Columns: 2475\n",
      "  - file: 1 column\n",
      "  - STFT features: 2050 columns (mean + std)\n",
      "  - Mel features: 256 columns (mean + std)\n",
      "  - CQT features: 168 columns (mean + std)\n"
     ]
    }
   ],
   "source": [
    "# Create DataFrame with all features\n",
    "df = pd.DataFrame({\n",
    "    \"file\": files,\n",
    "    **{f\"stft_mean_{i}\": stft_means[:, i] for i in range(stft_means.shape[1])},\n",
    "    **{f\"stft_std_{i}\": stft_stds[:, i] for i in range(stft_stds.shape[1])},\n",
    "    **{f\"mel_mean_{i}\": mel_means[:, i] for i in range(mel_means.shape[1])},\n",
    "    **{f\"mel_std_{i}\": mel_stds[:, i] for i in range(mel_stds.shape[1])},\n",
    "    **{f\"cqt_mean_{i}\": cqt_means[:, i] for i in range(cqt_means.shape[1])},\n",
    "    **{f\"cqt_std_{i}\": cqt_stds[:, i] for i in range(cqt_stds.shape[1])},\n",
    "})\n",
    "\n",
    "print(f\"\\nDataFrame shape: {df.shape}\")\n",
    "print(f\"Columns: {len(df.columns)}\")\n",
    "print(f\"  - file: 1 column\")\n",
    "print(f\"  - STFT features: {stft_means.shape[1] * 2} columns (mean + std)\")\n",
    "print(f\"  - Mel features: {mel_means.shape[1] * 2} columns (mean + std)\")\n",
    "print(f\"  - CQT features: {cqt_means.shape[1] * 2} columns (mean + std)\")"
   ]
  },
  {
   "cell_type": "code",
   "execution_count": 8,
   "metadata": {},
   "outputs": [
    {
     "data": {
      "text/html": [
       "<div>\n",
       "<style scoped>\n",
       "    .dataframe tbody tr th:only-of-type {\n",
       "        vertical-align: middle;\n",
       "    }\n",
       "\n",
       "    .dataframe tbody tr th {\n",
       "        vertical-align: top;\n",
       "    }\n",
       "\n",
       "    .dataframe thead th {\n",
       "        text-align: right;\n",
       "    }\n",
       "</style>\n",
       "<table border=\"1\" class=\"dataframe\">\n",
       "  <thead>\n",
       "    <tr style=\"text-align: right;\">\n",
       "      <th></th>\n",
       "      <th>file</th>\n",
       "      <th>stft_mean_0</th>\n",
       "      <th>stft_mean_1</th>\n",
       "      <th>stft_mean_2</th>\n",
       "      <th>stft_mean_3</th>\n",
       "      <th>stft_mean_4</th>\n",
       "      <th>stft_mean_5</th>\n",
       "      <th>stft_mean_6</th>\n",
       "      <th>stft_mean_7</th>\n",
       "      <th>stft_mean_8</th>\n",
       "      <th>...</th>\n",
       "      <th>cqt_std_74</th>\n",
       "      <th>cqt_std_75</th>\n",
       "      <th>cqt_std_76</th>\n",
       "      <th>cqt_std_77</th>\n",
       "      <th>cqt_std_78</th>\n",
       "      <th>cqt_std_79</th>\n",
       "      <th>cqt_std_80</th>\n",
       "      <th>cqt_std_81</th>\n",
       "      <th>cqt_std_82</th>\n",
       "      <th>cqt_std_83</th>\n",
       "    </tr>\n",
       "  </thead>\n",
       "  <tbody>\n",
       "    <tr>\n",
       "      <th>0</th>\n",
       "      <td>0006ae4e.wav</td>\n",
       "      <td>0.630177</td>\n",
       "      <td>0.695077</td>\n",
       "      <td>0.683876</td>\n",
       "      <td>0.648365</td>\n",
       "      <td>0.610960</td>\n",
       "      <td>0.586519</td>\n",
       "      <td>0.557335</td>\n",
       "      <td>0.523971</td>\n",
       "      <td>0.511032</td>\n",
       "      <td>...</td>\n",
       "      <td>0.141729</td>\n",
       "      <td>0.123818</td>\n",
       "      <td>0.097963</td>\n",
       "      <td>0.098019</td>\n",
       "      <td>0.108474</td>\n",
       "      <td>0.114210</td>\n",
       "      <td>0.101129</td>\n",
       "      <td>0.088244</td>\n",
       "      <td>0.098404</td>\n",
       "      <td>0.104893</td>\n",
       "    </tr>\n",
       "    <tr>\n",
       "      <th>1</th>\n",
       "      <td>0019ef41.wav</td>\n",
       "      <td>0.543871</td>\n",
       "      <td>0.592020</td>\n",
       "      <td>0.654190</td>\n",
       "      <td>0.642607</td>\n",
       "      <td>0.679943</td>\n",
       "      <td>0.670065</td>\n",
       "      <td>0.612787</td>\n",
       "      <td>0.567508</td>\n",
       "      <td>0.531819</td>\n",
       "      <td>...</td>\n",
       "      <td>0.142544</td>\n",
       "      <td>0.140708</td>\n",
       "      <td>0.126795</td>\n",
       "      <td>0.122447</td>\n",
       "      <td>0.133664</td>\n",
       "      <td>0.148726</td>\n",
       "      <td>0.155113</td>\n",
       "      <td>0.169245</td>\n",
       "      <td>0.179506</td>\n",
       "      <td>0.178364</td>\n",
       "    </tr>\n",
       "    <tr>\n",
       "      <th>2</th>\n",
       "      <td>001ec0ad.wav</td>\n",
       "      <td>0.221086</td>\n",
       "      <td>0.209854</td>\n",
       "      <td>0.281830</td>\n",
       "      <td>0.315324</td>\n",
       "      <td>0.311852</td>\n",
       "      <td>0.284359</td>\n",
       "      <td>0.299771</td>\n",
       "      <td>0.332832</td>\n",
       "      <td>0.346691</td>\n",
       "      <td>...</td>\n",
       "      <td>0.224214</td>\n",
       "      <td>0.218608</td>\n",
       "      <td>0.208298</td>\n",
       "      <td>0.188692</td>\n",
       "      <td>0.178248</td>\n",
       "      <td>0.174347</td>\n",
       "      <td>0.146416</td>\n",
       "      <td>0.148517</td>\n",
       "      <td>0.152399</td>\n",
       "      <td>0.154559</td>\n",
       "    </tr>\n",
       "    <tr>\n",
       "      <th>3</th>\n",
       "      <td>0026c7cb.wav</td>\n",
       "      <td>0.445869</td>\n",
       "      <td>0.547143</td>\n",
       "      <td>0.564999</td>\n",
       "      <td>0.485690</td>\n",
       "      <td>0.467381</td>\n",
       "      <td>0.471674</td>\n",
       "      <td>0.431237</td>\n",
       "      <td>0.414910</td>\n",
       "      <td>0.404710</td>\n",
       "      <td>...</td>\n",
       "      <td>0.135110</td>\n",
       "      <td>0.129880</td>\n",
       "      <td>0.129500</td>\n",
       "      <td>0.127833</td>\n",
       "      <td>0.125553</td>\n",
       "      <td>0.123609</td>\n",
       "      <td>0.123089</td>\n",
       "      <td>0.120902</td>\n",
       "      <td>0.119276</td>\n",
       "      <td>0.116201</td>\n",
       "    </tr>\n",
       "    <tr>\n",
       "      <th>4</th>\n",
       "      <td>0026f116.wav</td>\n",
       "      <td>0.318727</td>\n",
       "      <td>0.523809</td>\n",
       "      <td>0.633859</td>\n",
       "      <td>0.631903</td>\n",
       "      <td>0.546305</td>\n",
       "      <td>0.480865</td>\n",
       "      <td>0.467831</td>\n",
       "      <td>0.419503</td>\n",
       "      <td>0.395317</td>\n",
       "      <td>...</td>\n",
       "      <td>0.206768</td>\n",
       "      <td>0.219073</td>\n",
       "      <td>0.208102</td>\n",
       "      <td>0.193863</td>\n",
       "      <td>0.187029</td>\n",
       "      <td>0.188512</td>\n",
       "      <td>0.185782</td>\n",
       "      <td>0.181636</td>\n",
       "      <td>0.181744</td>\n",
       "      <td>0.185358</td>\n",
       "    </tr>\n",
       "  </tbody>\n",
       "</table>\n",
       "<p>5 rows × 2475 columns</p>\n",
       "</div>"
      ],
      "text/plain": [
       "           file  stft_mean_0  stft_mean_1  stft_mean_2  stft_mean_3  \\\n",
       "0  0006ae4e.wav     0.630177     0.695077     0.683876     0.648365   \n",
       "1  0019ef41.wav     0.543871     0.592020     0.654190     0.642607   \n",
       "2  001ec0ad.wav     0.221086     0.209854     0.281830     0.315324   \n",
       "3  0026c7cb.wav     0.445869     0.547143     0.564999     0.485690   \n",
       "4  0026f116.wav     0.318727     0.523809     0.633859     0.631903   \n",
       "\n",
       "   stft_mean_4  stft_mean_5  stft_mean_6  stft_mean_7  stft_mean_8  ...  \\\n",
       "0     0.610960     0.586519     0.557335     0.523971     0.511032  ...   \n",
       "1     0.679943     0.670065     0.612787     0.567508     0.531819  ...   \n",
       "2     0.311852     0.284359     0.299771     0.332832     0.346691  ...   \n",
       "3     0.467381     0.471674     0.431237     0.414910     0.404710  ...   \n",
       "4     0.546305     0.480865     0.467831     0.419503     0.395317  ...   \n",
       "\n",
       "   cqt_std_74  cqt_std_75  cqt_std_76  cqt_std_77  cqt_std_78  cqt_std_79  \\\n",
       "0    0.141729    0.123818    0.097963    0.098019    0.108474    0.114210   \n",
       "1    0.142544    0.140708    0.126795    0.122447    0.133664    0.148726   \n",
       "2    0.224214    0.218608    0.208298    0.188692    0.178248    0.174347   \n",
       "3    0.135110    0.129880    0.129500    0.127833    0.125553    0.123609   \n",
       "4    0.206768    0.219073    0.208102    0.193863    0.187029    0.188512   \n",
       "\n",
       "   cqt_std_80  cqt_std_81  cqt_std_82  cqt_std_83  \n",
       "0    0.101129    0.088244    0.098404    0.104893  \n",
       "1    0.155113    0.169245    0.179506    0.178364  \n",
       "2    0.146416    0.148517    0.152399    0.154559  \n",
       "3    0.123089    0.120902    0.119276    0.116201  \n",
       "4    0.185782    0.181636    0.181744    0.185358  \n",
       "\n",
       "[5 rows x 2475 columns]"
      ]
     },
     "execution_count": 8,
     "metadata": {},
     "output_type": "execute_result"
    }
   ],
   "source": [
    "# Preview the data\n",
    "df.head()"
   ]
  },
  {
   "cell_type": "code",
   "execution_count": 9,
   "metadata": {},
   "outputs": [
    {
     "name": "stdout",
     "output_type": "stream",
     "text": [
      "\n",
      "✅ Successfully saved to: work/trn_curated_feature.csv\n",
      "   File size: 126.77 MB\n"
     ]
    }
   ],
   "source": [
    "# Save to CSV\n",
    "output_path = \"work/trn_curated_feature.csv\"\n",
    "os.makedirs(\"work\", exist_ok=True)\n",
    "df.to_csv(output_path, index=False)\n",
    "print(f\"\\n✅ Successfully saved to: {output_path}\")\n",
    "print(f\"   File size: {os.path.getsize(output_path) / (1024*1024):.2f} MB\")"
   ]
  },
  {
   "cell_type": "code",
   "execution_count": 10,
   "metadata": {},
   "outputs": [
    {
     "name": "stdout",
     "output_type": "stream",
     "text": [
      "\n",
      "Sanity checks:\n",
      "  Total rows: 4970\n",
      "  Total columns: 2475\n",
      "  Any NaN values: True\n",
      "  Memory usage: 47.23 MB\n"
     ]
    }
   ],
   "source": [
    "# Quick sanity check\n",
    "print(f\"\\nSanity checks:\")\n",
    "print(f\"  Total rows: {len(df)}\")\n",
    "print(f\"  Total columns: {len(df.columns)}\")\n",
    "print(f\"  Any NaN values: {df.isna().any().any()}\")\n",
    "print(f\"  Memory usage: {df.memory_usage(deep=True).sum() / (1024*1024):.2f} MB\")"
   ]
  }
 ],
 "metadata": {
  "kernelspec": {
   "display_name": "freesound",
   "language": "python",
   "name": "python3"
  },
  "language_info": {
   "codemirror_mode": {
    "name": "ipython",
    "version": 3
   },
   "file_extension": ".py",
   "mimetype": "text/x-python",
   "name": "python",
   "nbconvert_exporter": "python",
   "pygments_lexer": "ipython3",
   "version": "3.8.20"
  }
 },
 "nbformat": 4,
 "nbformat_minor": 4
}
